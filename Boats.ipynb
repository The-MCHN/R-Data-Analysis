{
 "cells": [
  {
   "cell_type": "code",
   "execution_count": 89,
   "metadata": {
    "pycharm": {
     "is_executing": true
    },
    "scrolled": true
   },
   "outputs": [
    {
     "ename": "ERROR",
     "evalue": "Error in library(rvest): there is no package called 'rvest'\n",
     "output_type": "error",
     "traceback": [
      "Error in library(rvest): there is no package called 'rvest'\nTraceback:\n",
      "1. library(rvest)"
     ]
    }
   ],
   "source": [
    "# install.packages(\"rvest\")\n",
    "library(rvest)"
   ]
  },
  {
   "cell_type": "code",
   "execution_count": 91,
   "metadata": {},
   "outputs": [],
   "source": [
    "options(scipen=999)"
   ]
  },
  {
   "cell_type": "code",
   "execution_count": 75,
   "metadata": {
    "pycharm": {
     "is_executing": true
    }
   },
   "outputs": [],
   "source": [
    "boats.df <- read.csv(\"./data/boat_data_cleared.csv\")"
   ]
  },
  {
   "cell_type": "code",
   "execution_count": 78,
   "metadata": {
    "pycharm": {
     "is_executing": true
    }
   },
   "outputs": [
    {
     "data": {
      "text/html": [
       "<table>\n",
       "<thead><tr><th scope=col>Price</th><th scope=col>Boat.Type</th><th scope=col>Manufacturer</th><th scope=col>Type</th><th scope=col>Year.Built</th><th scope=col>Length</th><th scope=col>Width</th><th scope=col>Material</th><th scope=col>Location</th><th scope=col>Number.of.views.last.7.days</th><th scope=col>Fuel.Type</th></tr></thead>\n",
       "<tbody>\n",
       "\t<tr><td>3370.37                       </td><td>motor yacht                   </td><td>Rigiflex                      </td><td>new boat from stock           </td><td>2017                          </td><td>4.00                          </td><td>1.90                          </td><td>                              </td><td>Switzerland                   </td><td>226                           </td><td>                              </td></tr>\n",
       "\t<tr><td>3490.00                       </td><td>center console                </td><td>Terhi                         </td><td>new boat from stock           </td><td>2020                          </td><td>4.00                          </td><td>1.50                          </td><td>Thermoplastic                 </td><td>Germany                       </td><td> 75                           </td><td>                              </td></tr>\n",
       "\t<tr><td>3807.70                       </td><td>sport                         </td><td>Marine                        </td><td>new boat from stock           </td><td>   0                          </td><td>3.69                          </td><td>1.42                          </td><td>Aluminium                     </td><td>Switzerland                   </td><td>124                           </td><td>                              </td></tr>\n",
       "\t<tr><td>3367.00                       </td><td>sport                         </td><td>Pioner                        </td><td>new boat from stock           </td><td>2020                          </td><td>3.00                          </td><td>1.00                          </td><td>                              </td><td>Denmark                       </td><td> 64                           </td><td>                              </td></tr>\n",
       "\t<tr><td>3399.00                       </td><td>fishing                       </td><td>Linder                        </td><td>new boat from stock           </td><td>2019                          </td><td>3.55                          </td><td>1.46                          </td><td>Aluminium                     </td><td>Germany                       </td><td> 58                           </td><td>                              </td></tr>\n",
       "\t<tr><td>3686.50                       </td><td>sport                         </td><td>Linder                        </td><td>new boat from stock           </td><td>   0                          </td><td>4.03                          </td><td>1.56                          </td><td>Aluminium                     </td><td>Switzerland                   </td><td>132                           </td><td>                              </td></tr>\n",
       "\t<tr><td>3636.00                       </td><td>catamaran                     </td><td>                              </td><td>used boat                     </td><td>1999                          </td><td>6.20                          </td><td>2.38                          </td><td>Aluminium                     </td><td>Switzerland                   </td><td>474                           </td><td>unleaded                      </td></tr>\n",
       "\t<tr><td>3224.00                       </td><td>sport                         </td><td>                              </td><td>used boat                     </td><td>   0                          </td><td>3.00                          </td><td>  NA                          </td><td>                              </td><td>Denmark                       </td><td>134                           </td><td>                              </td></tr>\n",
       "\t<tr><td>3333.00                       </td><td>fishing                       </td><td>Crescent                      </td><td>new boat from stock           </td><td>2019                          </td><td>3.64                          </td><td>1.37                          </td><td>                              </td><td>Germany                       </td><td> 45                           </td><td>                              </td></tr>\n",
       "\t<tr><td>3300.00                       </td><td>pontoon                       </td><td>Whaly                         </td><td>new boat from stock           </td><td>2018                          </td><td>4.35                          </td><td>1.73                          </td><td>                              </td><td>Italy                         </td><td>180                           </td><td>                              </td></tr>\n",
       "\t<tr><td>3535.00                       </td><td>fishing                       </td><td>Terhi                         </td><td>used boat                     </td><td>1987                          </td><td>4.35                          </td><td>1.75                          </td><td>GRP                           </td><td>Switzerland                   </td><td>239                           </td><td>electric                      </td></tr>\n",
       "\t<tr><td>3514.80                       </td><td>fishing                       </td><td>Marine                        </td><td>new boat from stock           </td><td>   0                          </td><td>4.13                          </td><td>1.41                          </td><td>Aluminium                     </td><td>Switzerland                   </td><td>145                           </td><td>                              </td></tr>\n",
       "\t<tr><td>3500.00                       </td><td>sport                         </td><td>GS Nautica                    </td><td>used boat                     </td><td>2004                          </td><td>4.70                          </td><td>2.00                          </td><td>GRP                           </td><td>Italy                         </td><td> 69                           </td><td>                              </td></tr>\n",
       "\t<tr><td>4646.00                       </td><td>runabout                      </td><td>Kimple                        </td><td>new boat from stock           </td><td>2020                          </td><td>4.40                          </td><td>1.65                          </td><td>Aluminium                     </td><td>Switzerland                   </td><td>113                           </td><td>                              </td></tr>\n",
       "\t<tr><td>4545.00                       </td><td>fishing                       </td><td>Italmarine                    </td><td>used boat                     </td><td>1997                          </td><td>3.72                          </td><td>1.33                          </td><td>Aluminium                     </td><td>Switzerland                   </td><td>413                           </td><td>unleaded                      </td></tr>\n",
       "\t<tr><td>4444.00                       </td><td>deck                          </td><td>Buster                        </td><td>new boat from stock           </td><td>   0                          </td><td>3.88                          </td><td>1.49                          </td><td>Aluminium                     </td><td>Switzerland                   </td><td>263                           </td><td>unleaded                      </td></tr>\n",
       "\t<tr><td>4423.80                       </td><td>sport                         </td><td>Linder                        </td><td>new boat from stock           </td><td>   0                          </td><td>4.31                          </td><td>1.64                          </td><td>Aluminium                     </td><td>Switzerland                   </td><td>462                           </td><td>                              </td></tr>\n",
       "\t<tr><td>3900.00                       </td><td>sport                         </td><td>                              </td><td>used boat                     </td><td>1985                          </td><td>4.00                          </td><td>1.00                          </td><td>                              </td><td>Denmark                       </td><td>124                           </td><td>                              </td></tr>\n",
       "\t<tr><td>4000.00                       </td><td>pilothouse                    </td><td>Beneteau                      </td><td>used boat                     </td><td>1981                          </td><td>8.00                          </td><td>2.84                          </td><td>PVC                           </td><td>France                        </td><td>265                           </td><td>diesel                        </td></tr>\n",
       "\t<tr><td>4000.00                       </td><td>cabin                         </td><td>                              </td><td>used boat                     </td><td>2011                          </td><td>6.37                          </td><td>2.31                          </td><td>GRP                           </td><td>Germany                       </td><td>330                           </td><td>unleaded                      </td></tr>\n",
       "\t<tr><td>3999.00                       </td><td>fishing                       </td><td>Linder                        </td><td>new boat from stock           </td><td>2019                          </td><td>3.55                          </td><td>1.46                          </td><td>Aluminium                     </td><td>Germany                       </td><td> 69                           </td><td>                              </td></tr>\n",
       "\t<tr><td>4309.67                       </td><td>fishing                       </td><td>Quicksilver (Brunswick Marine)</td><td>new boat from stock           </td><td>   0                          </td><td>3.78                          </td><td>1.71                          </td><td>GRP                           </td><td>Switzerland                   </td><td>198                           </td><td>unleaded                      </td></tr>\n",
       "\t<tr><td>3930.00                       </td><td>sport                         </td><td>Linder                        </td><td>new boat from stock           </td><td>2020                          </td><td>4.31                          </td><td>1.64                          </td><td>Aluminium                     </td><td>Germany                       </td><td> 90                           </td><td>unleaded                      </td></tr>\n",
       "\t<tr><td>3900.00                       </td><td>sport                         </td><td>Kammin                        </td><td>used boat                     </td><td>1979                          </td><td>5.60                          </td><td>2.10                          </td><td>GRP                           </td><td>Germany                       </td><td> 98                           </td><td>unleaded                      </td></tr>\n",
       "\t<tr><td>3900.00                       </td><td>cabin                         </td><td>                              </td><td>used boat                     </td><td>1985                          </td><td>6.53                          </td><td>2.47                          </td><td>                              </td><td>France                        </td><td>383                           </td><td>                              </td></tr>\n",
       "\t<tr><td>4242.00                       </td><td>fishing                       </td><td>Bucher                        </td><td>used boat                     </td><td>1998                          </td><td>5.70                          </td><td>1.55                          </td><td>GRP                           </td><td>Switzerland                   </td><td>160                           </td><td>unleaded                      </td></tr>\n",
       "\t<tr><td>4242.00                       </td><td>fishing                       </td><td>Maendli                       </td><td>used boat                     </td><td>   0                          </td><td>4.00                          </td><td>1.50                          </td><td>GRP                           </td><td>Switzerland                   </td><td>295                           </td><td>unleaded                      </td></tr>\n",
       "\t<tr><td>4070.30                       </td><td>fishing                       </td><td>Linder                        </td><td>new boat from stock           </td><td>2018                          </td><td>3.55                          </td><td>1.46                          </td><td>Aluminium                     </td><td>Switzerland                   </td><td>130                           </td><td>                              </td></tr>\n",
       "\t<tr><td>4040.00                       </td><td>fishing                       </td><td>                              </td><td>used boat                     </td><td>1994                          </td><td>5.60                          </td><td>1.58                          </td><td>GRP                           </td><td>Switzerland                   </td><td>641                           </td><td>unleaded                      </td></tr>\n",
       "\t<tr><td>4014.75                       </td><td>fishing                       </td><td>Terhi                         </td><td>new boat from stock           </td><td>2020                          </td><td>4.01                          </td><td>1.50                          </td><td>Thermoplastic                 </td><td>Switzerland                   </td><td>512                           </td><td>                              </td></tr>\n",
       "\t<tr><td>...</td><td>...</td><td>...</td><td>...</td><td>...</td><td>...</td><td>...</td><td>...</td><td>...</td><td>...</td><td>...</td></tr>\n",
       "\t<tr><td>5900.00            </td><td>sport              </td><td>Kelt               </td><td>used boat          </td><td>1996               </td><td>4.90               </td><td>1.98               </td><td>PVC                </td><td>France             </td><td> 149               </td><td>unleaded           </td></tr>\n",
       "\t<tr><td>5000.00            </td><td>cabin              </td><td>Dufour             </td><td>used boat          </td><td>1990               </td><td>4.20               </td><td>1.95               </td><td>PVC                </td><td>France             </td><td> 138               </td><td>unleaded           </td></tr>\n",
       "\t<tr><td>5000.00            </td><td>classic            </td><td>                   </td><td>used boat          </td><td>1920               </td><td>6.50               </td><td>1.55               </td><td>Wood               </td><td>France             </td><td> 253               </td><td>unleaded           </td></tr>\n",
       "\t<tr><td>5000.00            </td><td>center console     </td><td>Elan               </td><td>used boat          </td><td>1992               </td><td>5.20               </td><td>  NA               </td><td>GRP                </td><td>Italy              </td><td> 266               </td><td>                   </td></tr>\n",
       "\t<tr><td>4999.00            </td><td>pilothouse         </td><td>                   </td><td>used boat          </td><td>1955               </td><td>9.00               </td><td>3.00               </td><td>GRP                </td><td>Germany            </td><td> 173               </td><td>diesel             </td></tr>\n",
       "\t<tr><td>4990.00            </td><td>cabin              </td><td>                   </td><td>NA                 </td><td>1987               </td><td>6.50               </td><td>2.50               </td><td>GRP                </td><td>Germany            </td><td> 190               </td><td>unleaded           </td></tr>\n",
       "\t<tr><td>4990.00            </td><td>sport              </td><td>                   </td><td>used boat          </td><td>   0               </td><td>4.60               </td><td>1.80               </td><td>GRP                </td><td>Germany            </td><td> 185               </td><td>unleaded           </td></tr>\n",
       "\t<tr><td>5443.90            </td><td>working            </td><td>Cipax AS           </td><td>new boat on order  </td><td>   0               </td><td>4.00               </td><td>1.80               </td><td>                   </td><td>Switzerland        </td><td> 117               </td><td>unleaded           </td></tr>\n",
       "\t<tr><td>4745.00            </td><td>sport              </td><td>                   </td><td>used boat          </td><td>1985               </td><td>4.00               </td><td>1.00               </td><td>                   </td><td>Denmark            </td><td>  96               </td><td>                   </td></tr>\n",
       "\t<tr><td>4745.00            </td><td>fishing            </td><td>Hunter             </td><td>used boat          </td><td>2000               </td><td>5.00               </td><td>1.00               </td><td>                   </td><td>Denmark            </td><td>  87               </td><td>                   </td></tr>\n",
       "\t<tr><td>4900.00            </td><td>sport              </td><td>Rio Iberica        </td><td>used boat          </td><td>1995               </td><td>6.40               </td><td>2.32               </td><td>GRP                </td><td>Italy              </td><td> 206               </td><td>unleaded           </td></tr>\n",
       "\t<tr><td>4900.00            </td><td>bowrider           </td><td>Glastron           </td><td>used boat          </td><td>1974               </td><td>5.20               </td><td>2.10               </td><td>GRP                </td><td>Germany            </td><td> 396               </td><td>unleaded           </td></tr>\n",
       "\t<tr><td>5302.50            </td><td>sport              </td><td>Marine             </td><td>new boat from stock</td><td>   0               </td><td>4.40               </td><td>1.51               </td><td>Aluminium          </td><td>Switzerland        </td><td> 198               </td><td>                   </td></tr>\n",
       "\t<tr><td>5302.50            </td><td>sport              </td><td>Fletcher           </td><td>used boat          </td><td>1975               </td><td>4.38               </td><td>1.70               </td><td>GRP                </td><td>Switzerland        </td><td> 997               </td><td>unleaded           </td></tr>\n",
       "\t<tr><td>4799.00            </td><td>sport              </td><td>BlueCraft          </td><td>new boat from stock</td><td>2020               </td><td>5.10               </td><td>2.16               </td><td>GRP                </td><td>Germany            </td><td> 203               </td><td>                   </td></tr>\n",
       "\t<tr><td>4799.00            </td><td>working            </td><td>                   </td><td>new boat from stock</td><td>2019               </td><td>3.64               </td><td>1.37               </td><td>                   </td><td>Germany            </td><td>  41               </td><td>electric           </td></tr>\n",
       "\t<tr><td>4790.00            </td><td>fishing            </td><td>Linder             </td><td>new boat from stock</td><td>2019               </td><td>3.55               </td><td>1.46               </td><td>Aluminium          </td><td>Germany            </td><td>  56               </td><td>unleaded           </td></tr>\n",
       "\t<tr><td>4790.00            </td><td>classic            </td><td>                   </td><td>used boat          </td><td>1962               </td><td>4.10               </td><td>1.50               </td><td>Wood               </td><td>Austria            </td><td> 188               </td><td>                   </td></tr>\n",
       "\t<tr><td>5050.00            </td><td>pilothouse         </td><td>Lambro             </td><td>used boat          </td><td>   0               </td><td>6.50               </td><td>2.45               </td><td>GRP                </td><td>Switzerland        </td><td> 550               </td><td>unleaded           </td></tr>\n",
       "\t<tr><td>5050.00            </td><td>cabin              </td><td>Princess           </td><td>used boat          </td><td>1974               </td><td>7.20               </td><td>2.70               </td><td>GRP                </td><td>Switzerland        </td><td>1299               </td><td>                   </td></tr>\n",
       "\t<tr><td>5048.99            </td><td>sport              </td><td>Tullio Abbate      </td><td>used boat          </td><td>1980               </td><td>6.00               </td><td>2.10               </td><td>GRP                </td><td>Switzerland        </td><td>1917               </td><td>unleaded           </td></tr>\n",
       "\t<tr><td>5039.90            </td><td>sport              </td><td>Pioner             </td><td>new boat on order  </td><td>   0               </td><td>4.11               </td><td>1.73               </td><td>                   </td><td>Switzerland        </td><td> 280               </td><td>                   </td></tr>\n",
       "\t<tr><td>5029.80            </td><td>sport              </td><td>Linder             </td><td>new boat from stock</td><td>   0               </td><td>4.01               </td><td>1.64               </td><td>Aluminium          </td><td>Switzerland        </td><td> 247               </td><td>                   </td></tr>\n",
       "\t<tr><td>4999.50            </td><td>sport              </td><td>Marine             </td><td>new boat from stock</td><td>   0               </td><td>3.99               </td><td>1.52               </td><td>Aluminium          </td><td>Switzerland        </td><td> 150               </td><td>                   </td></tr>\n",
       "\t<tr><td>4999.50            </td><td>fishing            </td><td>Staempfli          </td><td>used boat          </td><td>1984               </td><td>6.00               </td><td>1.62               </td><td>Plastic            </td><td>Switzerland        </td><td> 288               </td><td>unleaded           </td></tr>\n",
       "\t<tr><td>4949.00            </td><td>sport              </td><td>Sea Ray            </td><td>used boat          </td><td>1987               </td><td>6.30               </td><td>2.44               </td><td>                   </td><td>Switzerland        </td><td>1116               </td><td>unleaded           </td></tr>\n",
       "\t<tr><td>4516.00            </td><td>sport              </td><td>                   </td><td>new boat from stock</td><td>   0               </td><td>4.17               </td><td>1.68               </td><td>GRP                </td><td>Germany            </td><td>  94               </td><td>                   </td></tr>\n",
       "\t<tr><td>4499.00            </td><td>sport              </td><td>BlueCraft          </td><td>new boat from stock</td><td>2020               </td><td>4.40               </td><td>1.80               </td><td>GRP                </td><td>Germany            </td><td> 354               </td><td>unleaded           </td></tr>\n",
       "\t<tr><td>4300.00            </td><td>pontoon            </td><td>Whaly              </td><td>new boat from stock</td><td>2018               </td><td>4.37               </td><td>1.89               </td><td>                   </td><td>Italy              </td><td> 266               </td><td>                   </td></tr>\n",
       "\t<tr><td>3817.80            </td><td>fishing            </td><td>DarekCo            </td><td>new boat from stock</td><td>2019               </td><td>3.60               </td><td>1.60               </td><td>GRP                </td><td>Switzerland        </td><td> 194               </td><td>                   </td></tr>\n",
       "</tbody>\n",
       "</table>\n"
      ],
      "text/latex": [
       "\\begin{tabular}{r|lllllllllll}\n",
       " Price & Boat.Type & Manufacturer & Type & Year.Built & Length & Width & Material & Location & Number.of.views.last.7.days & Fuel.Type\\\\\n",
       "\\hline\n",
       "\t 3370.37                        & motor yacht                    & Rigiflex                       & new boat from stock            & 2017                           & 4.00                           & 1.90                           &                                & Switzerland                    & 226                            &                               \\\\\n",
       "\t 3490.00                        & center console                 & Terhi                          & new boat from stock            & 2020                           & 4.00                           & 1.50                           & Thermoplastic                  & Germany                        &  75                            &                               \\\\\n",
       "\t 3807.70                        & sport                          & Marine                         & new boat from stock            &    0                           & 3.69                           & 1.42                           & Aluminium                      & Switzerland                    & 124                            &                               \\\\\n",
       "\t 3367.00                        & sport                          & Pioner                         & new boat from stock            & 2020                           & 3.00                           & 1.00                           &                                & Denmark                        &  64                            &                               \\\\\n",
       "\t 3399.00                        & fishing                        & Linder                         & new boat from stock            & 2019                           & 3.55                           & 1.46                           & Aluminium                      & Germany                        &  58                            &                               \\\\\n",
       "\t 3686.50                        & sport                          & Linder                         & new boat from stock            &    0                           & 4.03                           & 1.56                           & Aluminium                      & Switzerland                    & 132                            &                               \\\\\n",
       "\t 3636.00                        & catamaran                      &                                & used boat                      & 1999                           & 6.20                           & 2.38                           & Aluminium                      & Switzerland                    & 474                            & unleaded                      \\\\\n",
       "\t 3224.00                        & sport                          &                                & used boat                      &    0                           & 3.00                           &   NA                           &                                & Denmark                        & 134                            &                               \\\\\n",
       "\t 3333.00                        & fishing                        & Crescent                       & new boat from stock            & 2019                           & 3.64                           & 1.37                           &                                & Germany                        &  45                            &                               \\\\\n",
       "\t 3300.00                        & pontoon                        & Whaly                          & new boat from stock            & 2018                           & 4.35                           & 1.73                           &                                & Italy                          & 180                            &                               \\\\\n",
       "\t 3535.00                        & fishing                        & Terhi                          & used boat                      & 1987                           & 4.35                           & 1.75                           & GRP                            & Switzerland                    & 239                            & electric                      \\\\\n",
       "\t 3514.80                        & fishing                        & Marine                         & new boat from stock            &    0                           & 4.13                           & 1.41                           & Aluminium                      & Switzerland                    & 145                            &                               \\\\\n",
       "\t 3500.00                        & sport                          & GS Nautica                     & used boat                      & 2004                           & 4.70                           & 2.00                           & GRP                            & Italy                          &  69                            &                               \\\\\n",
       "\t 4646.00                        & runabout                       & Kimple                         & new boat from stock            & 2020                           & 4.40                           & 1.65                           & Aluminium                      & Switzerland                    & 113                            &                               \\\\\n",
       "\t 4545.00                        & fishing                        & Italmarine                     & used boat                      & 1997                           & 3.72                           & 1.33                           & Aluminium                      & Switzerland                    & 413                            & unleaded                      \\\\\n",
       "\t 4444.00                        & deck                           & Buster                         & new boat from stock            &    0                           & 3.88                           & 1.49                           & Aluminium                      & Switzerland                    & 263                            & unleaded                      \\\\\n",
       "\t 4423.80                        & sport                          & Linder                         & new boat from stock            &    0                           & 4.31                           & 1.64                           & Aluminium                      & Switzerland                    & 462                            &                               \\\\\n",
       "\t 3900.00                        & sport                          &                                & used boat                      & 1985                           & 4.00                           & 1.00                           &                                & Denmark                        & 124                            &                               \\\\\n",
       "\t 4000.00                        & pilothouse                     & Beneteau                       & used boat                      & 1981                           & 8.00                           & 2.84                           & PVC                            & France                         & 265                            & diesel                        \\\\\n",
       "\t 4000.00                        & cabin                          &                                & used boat                      & 2011                           & 6.37                           & 2.31                           & GRP                            & Germany                        & 330                            & unleaded                      \\\\\n",
       "\t 3999.00                        & fishing                        & Linder                         & new boat from stock            & 2019                           & 3.55                           & 1.46                           & Aluminium                      & Germany                        &  69                            &                               \\\\\n",
       "\t 4309.67                        & fishing                        & Quicksilver (Brunswick Marine) & new boat from stock            &    0                           & 3.78                           & 1.71                           & GRP                            & Switzerland                    & 198                            & unleaded                      \\\\\n",
       "\t 3930.00                        & sport                          & Linder                         & new boat from stock            & 2020                           & 4.31                           & 1.64                           & Aluminium                      & Germany                        &  90                            & unleaded                      \\\\\n",
       "\t 3900.00                        & sport                          & Kammin                         & used boat                      & 1979                           & 5.60                           & 2.10                           & GRP                            & Germany                        &  98                            & unleaded                      \\\\\n",
       "\t 3900.00                        & cabin                          &                                & used boat                      & 1985                           & 6.53                           & 2.47                           &                                & France                         & 383                            &                               \\\\\n",
       "\t 4242.00                        & fishing                        & Bucher                         & used boat                      & 1998                           & 5.70                           & 1.55                           & GRP                            & Switzerland                    & 160                            & unleaded                      \\\\\n",
       "\t 4242.00                        & fishing                        & Maendli                        & used boat                      &    0                           & 4.00                           & 1.50                           & GRP                            & Switzerland                    & 295                            & unleaded                      \\\\\n",
       "\t 4070.30                        & fishing                        & Linder                         & new boat from stock            & 2018                           & 3.55                           & 1.46                           & Aluminium                      & Switzerland                    & 130                            &                               \\\\\n",
       "\t 4040.00                        & fishing                        &                                & used boat                      & 1994                           & 5.60                           & 1.58                           & GRP                            & Switzerland                    & 641                            & unleaded                      \\\\\n",
       "\t 4014.75                        & fishing                        & Terhi                          & new boat from stock            & 2020                           & 4.01                           & 1.50                           & Thermoplastic                  & Switzerland                    & 512                            &                               \\\\\n",
       "\t ... & ... & ... & ... & ... & ... & ... & ... & ... & ... & ...\\\\\n",
       "\t 5900.00             & sport               & Kelt                & used boat           & 1996                & 4.90                & 1.98                & PVC                 & France              &  149                & unleaded           \\\\\n",
       "\t 5000.00             & cabin               & Dufour              & used boat           & 1990                & 4.20                & 1.95                & PVC                 & France              &  138                & unleaded           \\\\\n",
       "\t 5000.00             & classic             &                     & used boat           & 1920                & 6.50                & 1.55                & Wood                & France              &  253                & unleaded           \\\\\n",
       "\t 5000.00             & center console      & Elan                & used boat           & 1992                & 5.20                &   NA                & GRP                 & Italy               &  266                &                    \\\\\n",
       "\t 4999.00             & pilothouse          &                     & used boat           & 1955                & 9.00                & 3.00                & GRP                 & Germany             &  173                & diesel             \\\\\n",
       "\t 4990.00             & cabin               &                     & NA                  & 1987                & 6.50                & 2.50                & GRP                 & Germany             &  190                & unleaded           \\\\\n",
       "\t 4990.00             & sport               &                     & used boat           &    0                & 4.60                & 1.80                & GRP                 & Germany             &  185                & unleaded           \\\\\n",
       "\t 5443.90             & working             & Cipax AS            & new boat on order   &    0                & 4.00                & 1.80                &                     & Switzerland         &  117                & unleaded           \\\\\n",
       "\t 4745.00             & sport               &                     & used boat           & 1985                & 4.00                & 1.00                &                     & Denmark             &   96                &                    \\\\\n",
       "\t 4745.00             & fishing             & Hunter              & used boat           & 2000                & 5.00                & 1.00                &                     & Denmark             &   87                &                    \\\\\n",
       "\t 4900.00             & sport               & Rio Iberica         & used boat           & 1995                & 6.40                & 2.32                & GRP                 & Italy               &  206                & unleaded           \\\\\n",
       "\t 4900.00             & bowrider            & Glastron            & used boat           & 1974                & 5.20                & 2.10                & GRP                 & Germany             &  396                & unleaded           \\\\\n",
       "\t 5302.50             & sport               & Marine              & new boat from stock &    0                & 4.40                & 1.51                & Aluminium           & Switzerland         &  198                &                    \\\\\n",
       "\t 5302.50             & sport               & Fletcher            & used boat           & 1975                & 4.38                & 1.70                & GRP                 & Switzerland         &  997                & unleaded           \\\\\n",
       "\t 4799.00             & sport               & BlueCraft           & new boat from stock & 2020                & 5.10                & 2.16                & GRP                 & Germany             &  203                &                    \\\\\n",
       "\t 4799.00             & working             &                     & new boat from stock & 2019                & 3.64                & 1.37                &                     & Germany             &   41                & electric           \\\\\n",
       "\t 4790.00             & fishing             & Linder              & new boat from stock & 2019                & 3.55                & 1.46                & Aluminium           & Germany             &   56                & unleaded           \\\\\n",
       "\t 4790.00             & classic             &                     & used boat           & 1962                & 4.10                & 1.50                & Wood                & Austria             &  188                &                    \\\\\n",
       "\t 5050.00             & pilothouse          & Lambro              & used boat           &    0                & 6.50                & 2.45                & GRP                 & Switzerland         &  550                & unleaded           \\\\\n",
       "\t 5050.00             & cabin               & Princess            & used boat           & 1974                & 7.20                & 2.70                & GRP                 & Switzerland         & 1299                &                    \\\\\n",
       "\t 5048.99             & sport               & Tullio Abbate       & used boat           & 1980                & 6.00                & 2.10                & GRP                 & Switzerland         & 1917                & unleaded           \\\\\n",
       "\t 5039.90             & sport               & Pioner              & new boat on order   &    0                & 4.11                & 1.73                &                     & Switzerland         &  280                &                    \\\\\n",
       "\t 5029.80             & sport               & Linder              & new boat from stock &    0                & 4.01                & 1.64                & Aluminium           & Switzerland         &  247                &                    \\\\\n",
       "\t 4999.50             & sport               & Marine              & new boat from stock &    0                & 3.99                & 1.52                & Aluminium           & Switzerland         &  150                &                    \\\\\n",
       "\t 4999.50             & fishing             & Staempfli           & used boat           & 1984                & 6.00                & 1.62                & Plastic             & Switzerland         &  288                & unleaded           \\\\\n",
       "\t 4949.00             & sport               & Sea Ray             & used boat           & 1987                & 6.30                & 2.44                &                     & Switzerland         & 1116                & unleaded           \\\\\n",
       "\t 4516.00             & sport               &                     & new boat from stock &    0                & 4.17                & 1.68                & GRP                 & Germany             &   94                &                    \\\\\n",
       "\t 4499.00             & sport               & BlueCraft           & new boat from stock & 2020                & 4.40                & 1.80                & GRP                 & Germany             &  354                & unleaded           \\\\\n",
       "\t 4300.00             & pontoon             & Whaly               & new boat from stock & 2018                & 4.37                & 1.89                &                     & Italy               &  266                &                    \\\\\n",
       "\t 3817.80             & fishing             & DarekCo             & new boat from stock & 2019                & 3.60                & 1.60                & GRP                 & Switzerland         &  194                &                    \\\\\n",
       "\\end{tabular}\n"
      ],
      "text/markdown": [
       "\n",
       "| Price | Boat.Type | Manufacturer | Type | Year.Built | Length | Width | Material | Location | Number.of.views.last.7.days | Fuel.Type |\n",
       "|---|---|---|---|---|---|---|---|---|---|---|\n",
       "| 3370.37                        | motor yacht                    | Rigiflex                       | new boat from stock            | 2017                           | 4.00                           | 1.90                           |                                | Switzerland                    | 226                            |                                |\n",
       "| 3490.00                        | center console                 | Terhi                          | new boat from stock            | 2020                           | 4.00                           | 1.50                           | Thermoplastic                  | Germany                        |  75                            |                                |\n",
       "| 3807.70                        | sport                          | Marine                         | new boat from stock            |    0                           | 3.69                           | 1.42                           | Aluminium                      | Switzerland                    | 124                            |                                |\n",
       "| 3367.00                        | sport                          | Pioner                         | new boat from stock            | 2020                           | 3.00                           | 1.00                           |                                | Denmark                        |  64                            |                                |\n",
       "| 3399.00                        | fishing                        | Linder                         | new boat from stock            | 2019                           | 3.55                           | 1.46                           | Aluminium                      | Germany                        |  58                            |                                |\n",
       "| 3686.50                        | sport                          | Linder                         | new boat from stock            |    0                           | 4.03                           | 1.56                           | Aluminium                      | Switzerland                    | 132                            |                                |\n",
       "| 3636.00                        | catamaran                      |                                | used boat                      | 1999                           | 6.20                           | 2.38                           | Aluminium                      | Switzerland                    | 474                            | unleaded                       |\n",
       "| 3224.00                        | sport                          |                                | used boat                      |    0                           | 3.00                           |   NA                           |                                | Denmark                        | 134                            |                                |\n",
       "| 3333.00                        | fishing                        | Crescent                       | new boat from stock            | 2019                           | 3.64                           | 1.37                           |                                | Germany                        |  45                            |                                |\n",
       "| 3300.00                        | pontoon                        | Whaly                          | new boat from stock            | 2018                           | 4.35                           | 1.73                           |                                | Italy                          | 180                            |                                |\n",
       "| 3535.00                        | fishing                        | Terhi                          | used boat                      | 1987                           | 4.35                           | 1.75                           | GRP                            | Switzerland                    | 239                            | electric                       |\n",
       "| 3514.80                        | fishing                        | Marine                         | new boat from stock            |    0                           | 4.13                           | 1.41                           | Aluminium                      | Switzerland                    | 145                            |                                |\n",
       "| 3500.00                        | sport                          | GS Nautica                     | used boat                      | 2004                           | 4.70                           | 2.00                           | GRP                            | Italy                          |  69                            |                                |\n",
       "| 4646.00                        | runabout                       | Kimple                         | new boat from stock            | 2020                           | 4.40                           | 1.65                           | Aluminium                      | Switzerland                    | 113                            |                                |\n",
       "| 4545.00                        | fishing                        | Italmarine                     | used boat                      | 1997                           | 3.72                           | 1.33                           | Aluminium                      | Switzerland                    | 413                            | unleaded                       |\n",
       "| 4444.00                        | deck                           | Buster                         | new boat from stock            |    0                           | 3.88                           | 1.49                           | Aluminium                      | Switzerland                    | 263                            | unleaded                       |\n",
       "| 4423.80                        | sport                          | Linder                         | new boat from stock            |    0                           | 4.31                           | 1.64                           | Aluminium                      | Switzerland                    | 462                            |                                |\n",
       "| 3900.00                        | sport                          |                                | used boat                      | 1985                           | 4.00                           | 1.00                           |                                | Denmark                        | 124                            |                                |\n",
       "| 4000.00                        | pilothouse                     | Beneteau                       | used boat                      | 1981                           | 8.00                           | 2.84                           | PVC                            | France                         | 265                            | diesel                         |\n",
       "| 4000.00                        | cabin                          |                                | used boat                      | 2011                           | 6.37                           | 2.31                           | GRP                            | Germany                        | 330                            | unleaded                       |\n",
       "| 3999.00                        | fishing                        | Linder                         | new boat from stock            | 2019                           | 3.55                           | 1.46                           | Aluminium                      | Germany                        |  69                            |                                |\n",
       "| 4309.67                        | fishing                        | Quicksilver (Brunswick Marine) | new boat from stock            |    0                           | 3.78                           | 1.71                           | GRP                            | Switzerland                    | 198                            | unleaded                       |\n",
       "| 3930.00                        | sport                          | Linder                         | new boat from stock            | 2020                           | 4.31                           | 1.64                           | Aluminium                      | Germany                        |  90                            | unleaded                       |\n",
       "| 3900.00                        | sport                          | Kammin                         | used boat                      | 1979                           | 5.60                           | 2.10                           | GRP                            | Germany                        |  98                            | unleaded                       |\n",
       "| 3900.00                        | cabin                          |                                | used boat                      | 1985                           | 6.53                           | 2.47                           |                                | France                         | 383                            |                                |\n",
       "| 4242.00                        | fishing                        | Bucher                         | used boat                      | 1998                           | 5.70                           | 1.55                           | GRP                            | Switzerland                    | 160                            | unleaded                       |\n",
       "| 4242.00                        | fishing                        | Maendli                        | used boat                      |    0                           | 4.00                           | 1.50                           | GRP                            | Switzerland                    | 295                            | unleaded                       |\n",
       "| 4070.30                        | fishing                        | Linder                         | new boat from stock            | 2018                           | 3.55                           | 1.46                           | Aluminium                      | Switzerland                    | 130                            |                                |\n",
       "| 4040.00                        | fishing                        |                                | used boat                      | 1994                           | 5.60                           | 1.58                           | GRP                            | Switzerland                    | 641                            | unleaded                       |\n",
       "| 4014.75                        | fishing                        | Terhi                          | new boat from stock            | 2020                           | 4.01                           | 1.50                           | Thermoplastic                  | Switzerland                    | 512                            |                                |\n",
       "| ... | ... | ... | ... | ... | ... | ... | ... | ... | ... | ... |\n",
       "| 5900.00             | sport               | Kelt                | used boat           | 1996                | 4.90                | 1.98                | PVC                 | France              |  149                | unleaded            |\n",
       "| 5000.00             | cabin               | Dufour              | used boat           | 1990                | 4.20                | 1.95                | PVC                 | France              |  138                | unleaded            |\n",
       "| 5000.00             | classic             |                     | used boat           | 1920                | 6.50                | 1.55                | Wood                | France              |  253                | unleaded            |\n",
       "| 5000.00             | center console      | Elan                | used boat           | 1992                | 5.20                |   NA                | GRP                 | Italy               |  266                |                     |\n",
       "| 4999.00             | pilothouse          |                     | used boat           | 1955                | 9.00                | 3.00                | GRP                 | Germany             |  173                | diesel              |\n",
       "| 4990.00             | cabin               |                     | NA                  | 1987                | 6.50                | 2.50                | GRP                 | Germany             |  190                | unleaded            |\n",
       "| 4990.00             | sport               |                     | used boat           |    0                | 4.60                | 1.80                | GRP                 | Germany             |  185                | unleaded            |\n",
       "| 5443.90             | working             | Cipax AS            | new boat on order   |    0                | 4.00                | 1.80                |                     | Switzerland         |  117                | unleaded            |\n",
       "| 4745.00             | sport               |                     | used boat           | 1985                | 4.00                | 1.00                |                     | Denmark             |   96                |                     |\n",
       "| 4745.00             | fishing             | Hunter              | used boat           | 2000                | 5.00                | 1.00                |                     | Denmark             |   87                |                     |\n",
       "| 4900.00             | sport               | Rio Iberica         | used boat           | 1995                | 6.40                | 2.32                | GRP                 | Italy               |  206                | unleaded            |\n",
       "| 4900.00             | bowrider            | Glastron            | used boat           | 1974                | 5.20                | 2.10                | GRP                 | Germany             |  396                | unleaded            |\n",
       "| 5302.50             | sport               | Marine              | new boat from stock |    0                | 4.40                | 1.51                | Aluminium           | Switzerland         |  198                |                     |\n",
       "| 5302.50             | sport               | Fletcher            | used boat           | 1975                | 4.38                | 1.70                | GRP                 | Switzerland         |  997                | unleaded            |\n",
       "| 4799.00             | sport               | BlueCraft           | new boat from stock | 2020                | 5.10                | 2.16                | GRP                 | Germany             |  203                |                     |\n",
       "| 4799.00             | working             |                     | new boat from stock | 2019                | 3.64                | 1.37                |                     | Germany             |   41                | electric            |\n",
       "| 4790.00             | fishing             | Linder              | new boat from stock | 2019                | 3.55                | 1.46                | Aluminium           | Germany             |   56                | unleaded            |\n",
       "| 4790.00             | classic             |                     | used boat           | 1962                | 4.10                | 1.50                | Wood                | Austria             |  188                |                     |\n",
       "| 5050.00             | pilothouse          | Lambro              | used boat           |    0                | 6.50                | 2.45                | GRP                 | Switzerland         |  550                | unleaded            |\n",
       "| 5050.00             | cabin               | Princess            | used boat           | 1974                | 7.20                | 2.70                | GRP                 | Switzerland         | 1299                |                     |\n",
       "| 5048.99             | sport               | Tullio Abbate       | used boat           | 1980                | 6.00                | 2.10                | GRP                 | Switzerland         | 1917                | unleaded            |\n",
       "| 5039.90             | sport               | Pioner              | new boat on order   |    0                | 4.11                | 1.73                |                     | Switzerland         |  280                |                     |\n",
       "| 5029.80             | sport               | Linder              | new boat from stock |    0                | 4.01                | 1.64                | Aluminium           | Switzerland         |  247                |                     |\n",
       "| 4999.50             | sport               | Marine              | new boat from stock |    0                | 3.99                | 1.52                | Aluminium           | Switzerland         |  150                |                     |\n",
       "| 4999.50             | fishing             | Staempfli           | used boat           | 1984                | 6.00                | 1.62                | Plastic             | Switzerland         |  288                | unleaded            |\n",
       "| 4949.00             | sport               | Sea Ray             | used boat           | 1987                | 6.30                | 2.44                |                     | Switzerland         | 1116                | unleaded            |\n",
       "| 4516.00             | sport               |                     | new boat from stock |    0                | 4.17                | 1.68                | GRP                 | Germany             |   94                |                     |\n",
       "| 4499.00             | sport               | BlueCraft           | new boat from stock | 2020                | 4.40                | 1.80                | GRP                 | Germany             |  354                | unleaded            |\n",
       "| 4300.00             | pontoon             | Whaly               | new boat from stock | 2018                | 4.37                | 1.89                |                     | Italy               |  266                |                     |\n",
       "| 3817.80             | fishing             | DarekCo             | new boat from stock | 2019                | 3.60                | 1.60                | GRP                 | Switzerland         |  194                |                     |\n",
       "\n"
      ],
      "text/plain": [
       "     Price   Boat.Type      Manufacturer                   Type               \n",
       "1    3370.37 motor yacht    Rigiflex                       new boat from stock\n",
       "2    3490.00 center console Terhi                          new boat from stock\n",
       "3    3807.70 sport          Marine                         new boat from stock\n",
       "4    3367.00 sport          Pioner                         new boat from stock\n",
       "5    3399.00 fishing        Linder                         new boat from stock\n",
       "6    3686.50 sport          Linder                         new boat from stock\n",
       "7    3636.00 catamaran                                     used boat          \n",
       "8    3224.00 sport                                         used boat          \n",
       "9    3333.00 fishing        Crescent                       new boat from stock\n",
       "10   3300.00 pontoon        Whaly                          new boat from stock\n",
       "11   3535.00 fishing        Terhi                          used boat          \n",
       "12   3514.80 fishing        Marine                         new boat from stock\n",
       "13   3500.00 sport          GS Nautica                     used boat          \n",
       "14   4646.00 runabout       Kimple                         new boat from stock\n",
       "15   4545.00 fishing        Italmarine                     used boat          \n",
       "16   4444.00 deck           Buster                         new boat from stock\n",
       "17   4423.80 sport          Linder                         new boat from stock\n",
       "18   3900.00 sport                                         used boat          \n",
       "19   4000.00 pilothouse     Beneteau                       used boat          \n",
       "20   4000.00 cabin                                         used boat          \n",
       "21   3999.00 fishing        Linder                         new boat from stock\n",
       "22   4309.67 fishing        Quicksilver (Brunswick Marine) new boat from stock\n",
       "23   3930.00 sport          Linder                         new boat from stock\n",
       "24   3900.00 sport          Kammin                         used boat          \n",
       "25   3900.00 cabin                                         used boat          \n",
       "26   4242.00 fishing        Bucher                         used boat          \n",
       "27   4242.00 fishing        Maendli                        used boat          \n",
       "28   4070.30 fishing        Linder                         new boat from stock\n",
       "29   4040.00 fishing                                       used boat          \n",
       "30   4014.75 fishing        Terhi                          new boat from stock\n",
       "...  ...     ...            ...                            ...                \n",
       "9859 5900.00 sport          Kelt                           used boat          \n",
       "9860 5000.00 cabin          Dufour                         used boat          \n",
       "9861 5000.00 classic                                       used boat          \n",
       "9862 5000.00 center console Elan                           used boat          \n",
       "9863 4999.00 pilothouse                                    used boat          \n",
       "9864 4990.00 cabin                                         NA                 \n",
       "9865 4990.00 sport                                         used boat          \n",
       "9866 5443.90 working        Cipax AS                       new boat on order  \n",
       "9867 4745.00 sport                                         used boat          \n",
       "9868 4745.00 fishing        Hunter                         used boat          \n",
       "9869 4900.00 sport          Rio Iberica                    used boat          \n",
       "9870 4900.00 bowrider       Glastron                       used boat          \n",
       "9871 5302.50 sport          Marine                         new boat from stock\n",
       "9872 5302.50 sport          Fletcher                       used boat          \n",
       "9873 4799.00 sport          BlueCraft                      new boat from stock\n",
       "9874 4799.00 working                                       new boat from stock\n",
       "9875 4790.00 fishing        Linder                         new boat from stock\n",
       "9876 4790.00 classic                                       used boat          \n",
       "9877 5050.00 pilothouse     Lambro                         used boat          \n",
       "9878 5050.00 cabin          Princess                       used boat          \n",
       "9879 5048.99 sport          Tullio Abbate                  used boat          \n",
       "9880 5039.90 sport          Pioner                         new boat on order  \n",
       "9881 5029.80 sport          Linder                         new boat from stock\n",
       "9882 4999.50 sport          Marine                         new boat from stock\n",
       "9883 4999.50 fishing        Staempfli                      used boat          \n",
       "9884 4949.00 sport          Sea Ray                        used boat          \n",
       "9885 4516.00 sport                                         new boat from stock\n",
       "9886 4499.00 sport          BlueCraft                      new boat from stock\n",
       "9887 4300.00 pontoon        Whaly                          new boat from stock\n",
       "9888 3817.80 fishing        DarekCo                        new boat from stock\n",
       "     Year.Built Length Width Material      Location   \n",
       "1    2017       4.00   1.90                Switzerland\n",
       "2    2020       4.00   1.50  Thermoplastic Germany    \n",
       "3       0       3.69   1.42  Aluminium     Switzerland\n",
       "4    2020       3.00   1.00                Denmark    \n",
       "5    2019       3.55   1.46  Aluminium     Germany    \n",
       "6       0       4.03   1.56  Aluminium     Switzerland\n",
       "7    1999       6.20   2.38  Aluminium     Switzerland\n",
       "8       0       3.00     NA                Denmark    \n",
       "9    2019       3.64   1.37                Germany    \n",
       "10   2018       4.35   1.73                Italy      \n",
       "11   1987       4.35   1.75  GRP           Switzerland\n",
       "12      0       4.13   1.41  Aluminium     Switzerland\n",
       "13   2004       4.70   2.00  GRP           Italy      \n",
       "14   2020       4.40   1.65  Aluminium     Switzerland\n",
       "15   1997       3.72   1.33  Aluminium     Switzerland\n",
       "16      0       3.88   1.49  Aluminium     Switzerland\n",
       "17      0       4.31   1.64  Aluminium     Switzerland\n",
       "18   1985       4.00   1.00                Denmark    \n",
       "19   1981       8.00   2.84  PVC           France     \n",
       "20   2011       6.37   2.31  GRP           Germany    \n",
       "21   2019       3.55   1.46  Aluminium     Germany    \n",
       "22      0       3.78   1.71  GRP           Switzerland\n",
       "23   2020       4.31   1.64  Aluminium     Germany    \n",
       "24   1979       5.60   2.10  GRP           Germany    \n",
       "25   1985       6.53   2.47                France     \n",
       "26   1998       5.70   1.55  GRP           Switzerland\n",
       "27      0       4.00   1.50  GRP           Switzerland\n",
       "28   2018       3.55   1.46  Aluminium     Switzerland\n",
       "29   1994       5.60   1.58  GRP           Switzerland\n",
       "30   2020       4.01   1.50  Thermoplastic Switzerland\n",
       "...  ...        ...    ...   ...           ...        \n",
       "9859 1996       4.90   1.98  PVC           France     \n",
       "9860 1990       4.20   1.95  PVC           France     \n",
       "9861 1920       6.50   1.55  Wood          France     \n",
       "9862 1992       5.20     NA  GRP           Italy      \n",
       "9863 1955       9.00   3.00  GRP           Germany    \n",
       "9864 1987       6.50   2.50  GRP           Germany    \n",
       "9865    0       4.60   1.80  GRP           Germany    \n",
       "9866    0       4.00   1.80                Switzerland\n",
       "9867 1985       4.00   1.00                Denmark    \n",
       "9868 2000       5.00   1.00                Denmark    \n",
       "9869 1995       6.40   2.32  GRP           Italy      \n",
       "9870 1974       5.20   2.10  GRP           Germany    \n",
       "9871    0       4.40   1.51  Aluminium     Switzerland\n",
       "9872 1975       4.38   1.70  GRP           Switzerland\n",
       "9873 2020       5.10   2.16  GRP           Germany    \n",
       "9874 2019       3.64   1.37                Germany    \n",
       "9875 2019       3.55   1.46  Aluminium     Germany    \n",
       "9876 1962       4.10   1.50  Wood          Austria    \n",
       "9877    0       6.50   2.45  GRP           Switzerland\n",
       "9878 1974       7.20   2.70  GRP           Switzerland\n",
       "9879 1980       6.00   2.10  GRP           Switzerland\n",
       "9880    0       4.11   1.73                Switzerland\n",
       "9881    0       4.01   1.64  Aluminium     Switzerland\n",
       "9882    0       3.99   1.52  Aluminium     Switzerland\n",
       "9883 1984       6.00   1.62  Plastic       Switzerland\n",
       "9884 1987       6.30   2.44                Switzerland\n",
       "9885    0       4.17   1.68  GRP           Germany    \n",
       "9886 2020       4.40   1.80  GRP           Germany    \n",
       "9887 2018       4.37   1.89                Italy      \n",
       "9888 2019       3.60   1.60  GRP           Switzerland\n",
       "     Number.of.views.last.7.days Fuel.Type\n",
       "1    226                                  \n",
       "2     75                                  \n",
       "3    124                                  \n",
       "4     64                                  \n",
       "5     58                                  \n",
       "6    132                                  \n",
       "7    474                         unleaded \n",
       "8    134                                  \n",
       "9     45                                  \n",
       "10   180                                  \n",
       "11   239                         electric \n",
       "12   145                                  \n",
       "13    69                                  \n",
       "14   113                                  \n",
       "15   413                         unleaded \n",
       "16   263                         unleaded \n",
       "17   462                                  \n",
       "18   124                                  \n",
       "19   265                         diesel   \n",
       "20   330                         unleaded \n",
       "21    69                                  \n",
       "22   198                         unleaded \n",
       "23    90                         unleaded \n",
       "24    98                         unleaded \n",
       "25   383                                  \n",
       "26   160                         unleaded \n",
       "27   295                         unleaded \n",
       "28   130                                  \n",
       "29   641                         unleaded \n",
       "30   512                                  \n",
       "...  ...                         ...      \n",
       "9859  149                        unleaded \n",
       "9860  138                        unleaded \n",
       "9861  253                        unleaded \n",
       "9862  266                                 \n",
       "9863  173                        diesel   \n",
       "9864  190                        unleaded \n",
       "9865  185                        unleaded \n",
       "9866  117                        unleaded \n",
       "9867   96                                 \n",
       "9868   87                                 \n",
       "9869  206                        unleaded \n",
       "9870  396                        unleaded \n",
       "9871  198                                 \n",
       "9872  997                        unleaded \n",
       "9873  203                                 \n",
       "9874   41                        electric \n",
       "9875   56                        unleaded \n",
       "9876  188                                 \n",
       "9877  550                        unleaded \n",
       "9878 1299                                 \n",
       "9879 1917                        unleaded \n",
       "9880  280                                 \n",
       "9881  247                                 \n",
       "9882  150                                 \n",
       "9883  288                        unleaded \n",
       "9884 1116                        unleaded \n",
       "9885   94                                 \n",
       "9886  354                        unleaded \n",
       "9887  266                                 \n",
       "9888  194                                 "
      ]
     },
     "metadata": {},
     "output_type": "display_data"
    }
   ],
   "source": [
    "boats.df$Price <- as.numeric(as.character(boats.df$Price))\n",
    "boats.df"
   ]
  },
  {
   "cell_type": "code",
   "execution_count": 13,
   "metadata": {
    "pycharm": {
     "is_executing": true
    },
    "scrolled": true
   },
   "outputs": [
    {
     "data": {
      "image/png": "[encoded data removed]",
      "text/plain": [
       "plot without title"
      ]
     },
     "metadata": {},
     "output_type": "display_data"
    }
   ],
   "source": [
    "year = boats.df$Year.Built[boats.df$Year.Built !=0]\n",
    "boxplot(x=year, data='Year.Built')"
   ]
  },
  {
   "cell_type": "code",
   "execution_count": 21,
   "metadata": {},
   "outputs": [
    {
     "data": {
      "text/html": [
       "9337"
      ],
      "text/latex": [
       "9337"
      ],
      "text/markdown": [
       "9337"
      ],
      "text/plain": [
       "[1] 9337"
      ]
     },
     "metadata": {},
     "output_type": "display_data"
    },
    {
     "data": {
      "text/html": [
       "9888"
      ],
      "text/latex": [
       "9888"
      ],
      "text/markdown": [
       "9888"
      ],
      "text/plain": [
       "[1] 9888"
      ]
     },
     "metadata": {},
     "output_type": "display_data"
    }
   ],
   "source": [
    "year <- boats.df[boats.df$Year.Built !=0,]\n",
    "nrow(year)\n",
    "nrow(boats.df)"
   ]
  },
  {
   "cell_type": "code",
   "execution_count": 23,
   "metadata": {},
   "outputs": [
    {
     "data": {
      "text/html": [
       "1885"
      ],
      "text/latex": [
       "1885"
      ],
      "text/markdown": [
       "1885"
      ],
      "text/plain": [
       "[1] 1885"
      ]
     },
     "metadata": {},
     "output_type": "display_data"
    },
    {
     "data": {
      "text/html": [
       "2021"
      ],
      "text/latex": [
       "2021"
      ],
      "text/markdown": [
       "2021"
      ],
      "text/plain": [
       "[1] 2021"
      ]
     },
     "metadata": {},
     "output_type": "display_data"
    }
   ],
   "source": [
    "min(year$Year.Built)\n",
    "max(year$Year.Built)"
   ]
  },
  {
   "cell_type": "code",
   "execution_count": 100,
   "metadata": {},
   "outputs": [],
   "source": [
    "old.boats <- boats.df[boats.df$Year.Built >=1885 & boats.df$Year.Built <=1922 & boats.df$Price!=0,]"
   ]
  },
  {
   "cell_type": "code",
   "execution_count": 87,
   "metadata": {},
   "outputs": [
    {
     "data": {
      "text/html": [
       "65"
      ],
      "text/latex": [
       "65"
      ],
      "text/markdown": [
       "65"
      ],
      "text/plain": [
       "[1] 65"
      ]
     },
     "metadata": {},
     "output_type": "display_data"
    }
   ],
   "source": [
    "nrow(old.boats)\n"
   ]
  },
  {
   "cell_type": "code",
   "execution_count": 92,
   "metadata": {},
   "outputs": [
    {
     "data": {
      "image/png": "[encoded data removed]",
      "text/plain": [
       "Plot with title \"Price by Year of Production\""
      ]
     },
     "metadata": {},
     "output_type": "display_data"
    }
   ],
   "source": [
    "plot(old.boats$Year.Built, old.boats$Price,\n",
    "main=\"Price by Year of Production\",\n",
    "ylab=\"Price\",\n",
    "type=\"p\",\n",
    "col=\"blue\")"
   ]
  },
  {
   "cell_type": "code",
   "execution_count": 94,
   "metadata": {
    "scrolled": true
   },
   "outputs": [
    {
     "data": {
      "text/html": [
       "<table>\n",
       "<thead><tr><th></th><th scope=col>Price</th><th scope=col>Boat.Type</th><th scope=col>Manufacturer</th><th scope=col>Type</th><th scope=col>Year.Built</th><th scope=col>Length</th><th scope=col>Width</th><th scope=col>Material</th><th scope=col>Location</th><th scope=col>Number.of.views.last.7.days</th><th scope=col>Fuel.Type</th></tr></thead>\n",
       "<tbody>\n",
       "\t<tr><th scope=row>3914</th><td>640000                  </td><td>passenger               </td><td>                        </td><td>used boat               </td><td>1903                    </td><td>69.71                   </td><td>8.41                    </td><td>Steel                   </td><td>Netherlands             </td><td> 98                     </td><td>diesel                  </td></tr>\n",
       "\t<tr><th scope=row>4323</th><td>395000                  </td><td>motor yacht             </td><td>                        </td><td>used boat               </td><td>1910                    </td><td>14.90                   </td><td>2.80                    </td><td>Steel                   </td><td>Netherlands             </td><td> 65                     </td><td>diesel                  </td></tr>\n",
       "\t<tr><th scope=row>4803</th><td>297950                  </td><td>passenger               </td><td>Hitzler-Werft Regensburg</td><td>used boat               </td><td>1910                    </td><td>13.30                   </td><td>3.12                    </td><td>Steel                   </td><td>Switzerland             </td><td>245                     </td><td>diesel                  </td></tr>\n",
       "\t<tr><th scope=row>2650</th><td>295000                  </td><td>house                   </td><td>                        </td><td>used boat               </td><td>1915                    </td><td>23.00                   </td><td>4.50                    </td><td>Steel                   </td><td>USA                     </td><td>109                     </td><td>diesel                  </td></tr>\n",
       "\t<tr><th scope=row>4729</th><td>285000                  </td><td>house                   </td><td>                        </td><td>used boat               </td><td>1922                    </td><td>27.84                   </td><td>4.76                    </td><td>Steel                   </td><td>France                  </td><td> 85                     </td><td>diesel                  </td></tr>\n",
       "\t<tr><th scope=row>2508</th><td>249000                  </td><td>motor yacht             </td><td>                        </td><td>used boat               </td><td>1911                    </td><td>25.38                   </td><td>4.22                    </td><td>Steel                   </td><td>Belgium                 </td><td> 71                     </td><td>diesel                  </td></tr>\n",
       "\t<tr><th scope=row>5038</th><td>235000                  </td><td>motor yacht             </td><td>                        </td><td>used boat               </td><td>1910                    </td><td>27.00                   </td><td>5.00                    </td><td>Steel                   </td><td>France                  </td><td> 40                     </td><td>                        </td></tr>\n",
       "\t<tr><th scope=row>5064</th><td>229500                  </td><td>trawler                 </td><td>                        </td><td>used boat               </td><td>1920                    </td><td>27.00                   </td><td>4.50                    </td><td>Steel                   </td><td>Netherlands             </td><td> 74                     </td><td>                        </td></tr>\n",
       "\t<tr><th scope=row>5257</th><td>199500                  </td><td>house                   </td><td>                        </td><td>used boat               </td><td>1905                    </td><td>18.50                   </td><td>4.52                    </td><td>Steel                   </td><td>Netherlands             </td><td>102                     </td><td>diesel                  </td></tr>\n",
       "\t<tr><th scope=row>5258</th><td>199500                  </td><td>house                   </td><td>                        </td><td>used boat               </td><td>1910                    </td><td>24.47                   </td><td>4.86                    </td><td>Steel                   </td><td>Netherlands             </td><td> 57                     </td><td>diesel                  </td></tr>\n",
       "\t<tr><th scope=row>5230</th><td>194350                  </td><td>house                   </td><td>                        </td><td>used boat               </td><td>1906                    </td><td>30.00                   </td><td>5.05                    </td><td>Steel                   </td><td>France                  </td><td>123                     </td><td>                        </td></tr>\n",
       "\t<tr><th scope=row>5447</th><td>179500                  </td><td>trawler                 </td><td>Katwijker               </td><td>used boat               </td><td>1922                    </td><td>26.50                   </td><td>5.00                    </td><td>Steel                   </td><td>Netherlands             </td><td> 38                     </td><td>diesel                  </td></tr>\n",
       "\t<tr><th scope=row>5504</th><td>175000                  </td><td>motor yacht             </td><td>Katwijker               </td><td>used boat               </td><td>1911                    </td><td>22.17                   </td><td>3.80                    </td><td>Steel                   </td><td>Belgium                 </td><td> 89                     </td><td>diesel                  </td></tr>\n",
       "\t<tr><th scope=row>5539</th><td>170000                  </td><td>working                 </td><td>                        </td><td>used boat               </td><td>1909                    </td><td>38.00                   </td><td>5.00                    </td><td>Steel                   </td><td>Netherlands             </td><td>125                     </td><td>                        </td></tr>\n",
       "\t<tr><th scope=row>5549</th><td>169500                  </td><td>motor yacht             </td><td>                        </td><td>used boat               </td><td>1898                    </td><td>24.98                   </td><td>4.80                    </td><td>Steel                   </td><td>Netherlands             </td><td> 25                     </td><td>diesel                  </td></tr>\n",
       "\t<tr><th scope=row>2192</th><td>169000                  </td><td>house                   </td><td>Katwijker               </td><td>used boat               </td><td>1910                    </td><td>23.00                   </td><td>4.80                    </td><td>Steel                   </td><td>Germany                 </td><td>222                     </td><td>diesel                  </td></tr>\n",
       "\t<tr><th scope=row>5552</th><td>169000                  </td><td>house                   </td><td>                        </td><td>used boat               </td><td>1910                    </td><td>29.50                   </td><td>6.60                    </td><td>Steel                   </td><td>Netherlands             </td><td> 96                     </td><td>diesel                  </td></tr>\n",
       "\t<tr><th scope=row>2189</th><td>165000                  </td><td>trawler                 </td><td>                        </td><td>used boat               </td><td>1905                    </td><td>21.60                   </td><td>4.60                    </td><td>Steel                   </td><td>Netherlands             </td><td> 37                     </td><td>diesel                  </td></tr>\n",
       "\t<tr><th scope=row>5603</th><td>164500                  </td><td>trawler                 </td><td>                        </td><td>used boat               </td><td>1909                    </td><td>28.15                   </td><td>4.32                    </td><td>Steel                   </td><td>Netherlands             </td><td> 34                     </td><td>diesel                  </td></tr>\n",
       "\t<tr><th scope=row>2148</th><td>159000                  </td><td>trawler                 </td><td>                        </td><td>used boat               </td><td>1903                    </td><td>23.80                   </td><td>4.78                    </td><td>Steel                   </td><td>France                  </td><td> 41                     </td><td>                        </td></tr>\n",
       "\t<tr><th scope=row>5718</th><td>150000                  </td><td>trawler                 </td><td>                        </td><td>used boat               </td><td>1907                    </td><td>19.90                   </td><td>4.20                    </td><td>Steel                   </td><td>Belgium                 </td><td> 80                     </td><td>diesel                  </td></tr>\n",
       "\t<tr><th scope=row>5790</th><td>148000                  </td><td>house                   </td><td>                        </td><td>used boat               </td><td>1885                    </td><td>28.00                   </td><td>5.60                    </td><td>Steel                   </td><td>Netherlands             </td><td>160                     </td><td>diesel                  </td></tr>\n",
       "\t<tr><th scope=row>5808</th><td>147000                  </td><td>motor yacht             </td><td>                        </td><td>used boat               </td><td>1922                    </td><td>27.00                   </td><td>3.93                    </td><td>Steel                   </td><td>Netherlands             </td><td> 75                     </td><td>                        </td></tr>\n",
       "\t<tr><th scope=row>5875</th><td>139500                  </td><td>trawler                 </td><td>                        </td><td>used boat               </td><td>1895                    </td><td>26.53                   </td><td>4.50                    </td><td>Steel                   </td><td>Netherlands             </td><td> 33                     </td><td>diesel                  </td></tr>\n",
       "\t<tr><th scope=row>5876</th><td>139500                  </td><td>house                   </td><td>                        </td><td>used boat               </td><td>1911                    </td><td>27.16                   </td><td>4.60                    </td><td>Steel                   </td><td>Netherlands             </td><td>116                     </td><td>                        </td></tr>\n",
       "\t<tr><th scope=row>6014</th><td>129500                  </td><td>trawler                 </td><td>                        </td><td>used boat               </td><td>1914                    </td><td>25.60                   </td><td>5.02                    </td><td>Steel                   </td><td>Netherlands             </td><td>120                     </td><td>diesel                  </td></tr>\n",
       "\t<tr><th scope=row>6092</th><td>124500                  </td><td>motor yacht             </td><td>                        </td><td>used boat               </td><td>1901                    </td><td>30.00                   </td><td>5.77                    </td><td>Steel                   </td><td>Netherlands             </td><td> 60                     </td><td>                        </td></tr>\n",
       "\t<tr><th scope=row>6205</th><td>118000                  </td><td>house                   </td><td>                        </td><td>used boat               </td><td>1920                    </td><td>31.39                   </td><td>4.62                    </td><td>Steel                   </td><td>Belgium                 </td><td>205                     </td><td>diesel                  </td></tr>\n",
       "\t<tr><th scope=row>6210</th><td>117500                  </td><td>motor yacht             </td><td>                        </td><td>used boat               </td><td>1919                    </td><td>30.00                   </td><td>6.00                    </td><td>Steel                   </td><td>Netherlands             </td><td> 74                     </td><td>                        </td></tr>\n",
       "\t<tr><th scope=row>6341</th><td>107000                  </td><td>trawler                 </td><td>                        </td><td>used boat               </td><td>1907                    </td><td>15.60                   </td><td>3.40                    </td><td>Steel                   </td><td>Netherlands             </td><td> 85                     </td><td>                        </td></tr>\n",
       "\t<tr><th scope=row>...</th><td>...</td><td>...</td><td>...</td><td>...</td><td>...</td><td>...</td><td>...</td><td>...</td><td>...</td><td>...</td><td>...</td></tr>\n",
       "\t<tr><th scope=row>6649</th><td>89500            </td><td>trawler          </td><td>                 </td><td>used boat        </td><td>1911             </td><td>21.90            </td><td>3.92             </td><td>Steel            </td><td>Netherlands      </td><td> 58              </td><td>                 </td></tr>\n",
       "\t<tr><th scope=row>6650</th><td>89500            </td><td>house            </td><td>                 </td><td>used boat        </td><td>1922             </td><td>20.40            </td><td>4.35             </td><td>Steel            </td><td>Netherlands      </td><td> 59              </td><td>diesel           </td></tr>\n",
       "\t<tr><th scope=row>6653</th><td>89500            </td><td>trawler          </td><td>                 </td><td>used boat        </td><td>1910             </td><td>17.70            </td><td>4.16             </td><td>Steel            </td><td>Netherlands      </td><td> 35              </td><td>diesel           </td></tr>\n",
       "\t<tr><th scope=row>6704</th><td>89000            </td><td>classic          </td><td>van de Werf      </td><td>used boat        </td><td>1901             </td><td>11.00            </td><td>3.00             </td><td>Steel            </td><td>Germany          </td><td>868              </td><td>diesel           </td></tr>\n",
       "\t<tr><th scope=row>6890</th><td>79500            </td><td>trawler          </td><td>                 </td><td>used boat        </td><td>1919             </td><td>19.70            </td><td>3.85             </td><td>Steel            </td><td>Netherlands      </td><td> 30              </td><td>diesel           </td></tr>\n",
       "\t<tr><th scope=row>7019</th><td>75000            </td><td>passenger        </td><td>                 </td><td>used boat        </td><td>1904             </td><td>12.80            </td><td>2.96             </td><td>Steel            </td><td>Netherlands      </td><td> 81              </td><td>                 </td></tr>\n",
       "\t<tr><th scope=row>7413</th><td>64000            </td><td>motor yacht      </td><td>                 </td><td>used boat        </td><td>1917             </td><td>16.00            </td><td>3.60             </td><td>Steel            </td><td>Netherlands      </td><td>114              </td><td>diesel           </td></tr>\n",
       "\t<tr><th scope=row>1244</th><td>62000            </td><td>trawler          </td><td>                 </td><td>used boat        </td><td>1908             </td><td>17.50            </td><td>3.75             </td><td>Steel            </td><td>Netherlands      </td><td> 68              </td><td>                 </td></tr>\n",
       "\t<tr><th scope=row>1168</th><td>58000            </td><td>trawler          </td><td>                 </td><td>used boat        </td><td>1906             </td><td>14.80            </td><td>2.80             </td><td>Steel            </td><td>Netherlands      </td><td> 66              </td><td>diesel           </td></tr>\n",
       "\t<tr><th scope=row>1023</th><td>50000            </td><td>trawler          </td><td>                 </td><td>used boat        </td><td>1903             </td><td>29.70            </td><td>6.16             </td><td>Steel            </td><td>Netherlands      </td><td> 84              </td><td>                 </td></tr>\n",
       "\t<tr><th scope=row>7944</th><td>49500            </td><td>working          </td><td>                 </td><td>used boat        </td><td>1901             </td><td>18.22            </td><td>4.22             </td><td>Steel            </td><td>Netherlands      </td><td> 77              </td><td>diesel           </td></tr>\n",
       "\t<tr><th scope=row>7947</th><td>49500            </td><td>trawler          </td><td>                 </td><td>used boat        </td><td>1919             </td><td>18.42            </td><td>3.96             </td><td>Steel            </td><td>Netherlands      </td><td> 98              </td><td>                 </td></tr>\n",
       "\t<tr><th scope=row>7956</th><td>49500            </td><td>working          </td><td>                 </td><td>used boat        </td><td>1907             </td><td>16.13            </td><td>4.10             </td><td>Steel            </td><td>Netherlands      </td><td> 97              </td><td>diesel           </td></tr>\n",
       "\t<tr><th scope=row>7957</th><td>49500            </td><td>trawler          </td><td>                 </td><td>used boat        </td><td>1907             </td><td>15.25            </td><td>3.40             </td><td>Steel            </td><td>Netherlands      </td><td> 81              </td><td>                 </td></tr>\n",
       "\t<tr><th scope=row>8157</th><td>45000            </td><td>cabin            </td><td>Yachtwerft Berlin</td><td>used boat        </td><td>1912             </td><td>15.00            </td><td>3.50             </td><td>Steel            </td><td>Germany          </td><td>444              </td><td>diesel           </td></tr>\n",
       "\t<tr><th scope=row>897</th><td>44800            </td><td>trawler          </td><td>                 </td><td>used boat        </td><td>1910             </td><td>14.50            </td><td>3.60             </td><td>Steel            </td><td>Netherlands      </td><td>118              </td><td>                 </td></tr>\n",
       "\t<tr><th scope=row>8210</th><td>44000            </td><td>cabin            </td><td>                 </td><td>used boat        </td><td>1922             </td><td>13.50            </td><td>3.40             </td><td>Steel            </td><td>France           </td><td> 84              </td><td>diesel           </td></tr>\n",
       "\t<tr><th scope=row>8268</th><td>42500            </td><td>motor yacht      </td><td>                 </td><td>used boat        </td><td>1906             </td><td>17.30            </td><td>4.65             </td><td>Steel            </td><td>Netherlands      </td><td>101              </td><td>                 </td></tr>\n",
       "\t<tr><th scope=row>8294</th><td>42000            </td><td>trawler          </td><td>                 </td><td>used boat        </td><td>1908             </td><td>14.00            </td><td>3.67             </td><td>Steel            </td><td>Netherlands      </td><td>107              </td><td>                 </td></tr>\n",
       "\t<tr><th scope=row>8400</th><td>39500            </td><td>house            </td><td>                 </td><td>used boat        </td><td>1919             </td><td>22.27            </td><td>4.85             </td><td>Steel            </td><td>Netherlands      </td><td> 95              </td><td>diesel           </td></tr>\n",
       "\t<tr><th scope=row>8519</th><td>37500            </td><td>house            </td><td>                 </td><td>used boat        </td><td>1915             </td><td>15.23            </td><td>3.00             </td><td>Steel            </td><td>Netherlands      </td><td>242              </td><td>diesel           </td></tr>\n",
       "\t<tr><th scope=row>8651</th><td>34500            </td><td>working          </td><td>                 </td><td>used boat        </td><td>1910             </td><td>12.85            </td><td>3.10             </td><td>Steel            </td><td>Netherlands      </td><td> 73              </td><td>                 </td></tr>\n",
       "\t<tr><th scope=row>622</th><td>32500            </td><td>motor yacht      </td><td>                 </td><td>used boat        </td><td>1909             </td><td>11.50            </td><td>3.60             </td><td>Steel            </td><td>Netherlands      </td><td>161              </td><td>                 </td></tr>\n",
       "\t<tr><th scope=row>8787</th><td>31000            </td><td>motor yacht      </td><td>                 </td><td>used boat        </td><td>1905             </td><td>17.03            </td><td>3.56             </td><td>Steel            </td><td>Belgium          </td><td>173              </td><td>                 </td></tr>\n",
       "\t<tr><th scope=row>9061</th><td>25000            </td><td>classic          </td><td>                 </td><td>used boat        </td><td>1897             </td><td> 9.40            </td><td>3.20             </td><td>Wood             </td><td>Netherlands      </td><td>119              </td><td>diesel           </td></tr>\n",
       "\t<tr><th scope=row>9511</th><td>15000            </td><td>motor yacht      </td><td>                 </td><td>used boat        </td><td>1902             </td><td>20.70            </td><td>5.50             </td><td>Steel            </td><td>Netherlands      </td><td>207              </td><td>diesel           </td></tr>\n",
       "\t<tr><th scope=row>9515</th><td>15000            </td><td>trawler          </td><td>                 </td><td>used boat        </td><td>1900             </td><td>16.00            </td><td>4.05             </td><td>Steel            </td><td>Netherlands      </td><td>182              </td><td>                 </td></tr>\n",
       "\t<tr><th scope=row>173</th><td>12500            </td><td>trawler          </td><td>Schlosswerft     </td><td>used boat        </td><td>1913             </td><td>14.70            </td><td>3.65             </td><td>Steel            </td><td>Germany          </td><td>235              </td><td>diesel           </td></tr>\n",
       "\t<tr><th scope=row>9861</th><td> 5000            </td><td>classic          </td><td>                 </td><td>used boat        </td><td>1920             </td><td> 6.50            </td><td>1.55             </td><td>Wood             </td><td>France           </td><td>253              </td><td>unleaded         </td></tr>\n",
       "\t<tr><th scope=row>NA</th><td>   NA            </td><td>NA               </td><td>NA               </td><td>NA               </td><td>  NA             </td><td>   NA            </td><td>  NA             </td><td>NA               </td><td>NA               </td><td> NA              </td><td>NA               </td></tr>\n",
       "</tbody>\n",
       "</table>\n"
      ],
      "text/latex": [
       "\\begin{tabular}{r|lllllllllll}\n",
       "  & Price & Boat.Type & Manufacturer & Type & Year.Built & Length & Width & Material & Location & Number.of.views.last.7.days & Fuel.Type\\\\\n",
       "\\hline\n",
       "\t3914 & 640000                   & passenger                &                          & used boat                & 1903                     & 69.71                    & 8.41                     & Steel                    & Netherlands              &  98                      & diesel                  \\\\\n",
       "\t4323 & 395000                   & motor yacht              &                          & used boat                & 1910                     & 14.90                    & 2.80                     & Steel                    & Netherlands              &  65                      & diesel                  \\\\\n",
       "\t4803 & 297950                   & passenger                & Hitzler-Werft Regensburg & used boat                & 1910                     & 13.30                    & 3.12                     & Steel                    & Switzerland              & 245                      & diesel                  \\\\\n",
       "\t2650 & 295000                   & house                    &                          & used boat                & 1915                     & 23.00                    & 4.50                     & Steel                    & USA                      & 109                      & diesel                  \\\\\n",
       "\t4729 & 285000                   & house                    &                          & used boat                & 1922                     & 27.84                    & 4.76                     & Steel                    & France                   &  85                      & diesel                  \\\\\n",
       "\t2508 & 249000                   & motor yacht              &                          & used boat                & 1911                     & 25.38                    & 4.22                     & Steel                    & Belgium                  &  71                      & diesel                  \\\\\n",
       "\t5038 & 235000                   & motor yacht              &                          & used boat                & 1910                     & 27.00                    & 5.00                     & Steel                    & France                   &  40                      &                         \\\\\n",
       "\t5064 & 229500                   & trawler                  &                          & used boat                & 1920                     & 27.00                    & 4.50                     & Steel                    & Netherlands              &  74                      &                         \\\\\n",
       "\t5257 & 199500                   & house                    &                          & used boat                & 1905                     & 18.50                    & 4.52                     & Steel                    & Netherlands              & 102                      & diesel                  \\\\\n",
       "\t5258 & 199500                   & house                    &                          & used boat                & 1910                     & 24.47                    & 4.86                     & Steel                    & Netherlands              &  57                      & diesel                  \\\\\n",
       "\t5230 & 194350                   & house                    &                          & used boat                & 1906                     & 30.00                    & 5.05                     & Steel                    & France                   & 123                      &                         \\\\\n",
       "\t5447 & 179500                   & trawler                  & Katwijker                & used boat                & 1922                     & 26.50                    & 5.00                     & Steel                    & Netherlands              &  38                      & diesel                  \\\\\n",
       "\t5504 & 175000                   & motor yacht              & Katwijker                & used boat                & 1911                     & 22.17                    & 3.80                     & Steel                    & Belgium                  &  89                      & diesel                  \\\\\n",
       "\t5539 & 170000                   & working                  &                          & used boat                & 1909                     & 38.00                    & 5.00                     & Steel                    & Netherlands              & 125                      &                         \\\\\n",
       "\t5549 & 169500                   & motor yacht              &                          & used boat                & 1898                     & 24.98                    & 4.80                     & Steel                    & Netherlands              &  25                      & diesel                  \\\\\n",
       "\t2192 & 169000                   & house                    & Katwijker                & used boat                & 1910                     & 23.00                    & 4.80                     & Steel                    & Germany                  & 222                      & diesel                  \\\\\n",
       "\t5552 & 169000                   & house                    &                          & used boat                & 1910                     & 29.50                    & 6.60                     & Steel                    & Netherlands              &  96                      & diesel                  \\\\\n",
       "\t2189 & 165000                   & trawler                  &                          & used boat                & 1905                     & 21.60                    & 4.60                     & Steel                    & Netherlands              &  37                      & diesel                  \\\\\n",
       "\t5603 & 164500                   & trawler                  &                          & used boat                & 1909                     & 28.15                    & 4.32                     & Steel                    & Netherlands              &  34                      & diesel                  \\\\\n",
       "\t2148 & 159000                   & trawler                  &                          & used boat                & 1903                     & 23.80                    & 4.78                     & Steel                    & France                   &  41                      &                         \\\\\n",
       "\t5718 & 150000                   & trawler                  &                          & used boat                & 1907                     & 19.90                    & 4.20                     & Steel                    & Belgium                  &  80                      & diesel                  \\\\\n",
       "\t5790 & 148000                   & house                    &                          & used boat                & 1885                     & 28.00                    & 5.60                     & Steel                    & Netherlands              & 160                      & diesel                  \\\\\n",
       "\t5808 & 147000                   & motor yacht              &                          & used boat                & 1922                     & 27.00                    & 3.93                     & Steel                    & Netherlands              &  75                      &                         \\\\\n",
       "\t5875 & 139500                   & trawler                  &                          & used boat                & 1895                     & 26.53                    & 4.50                     & Steel                    & Netherlands              &  33                      & diesel                  \\\\\n",
       "\t5876 & 139500                   & house                    &                          & used boat                & 1911                     & 27.16                    & 4.60                     & Steel                    & Netherlands              & 116                      &                         \\\\\n",
       "\t6014 & 129500                   & trawler                  &                          & used boat                & 1914                     & 25.60                    & 5.02                     & Steel                    & Netherlands              & 120                      & diesel                  \\\\\n",
       "\t6092 & 124500                   & motor yacht              &                          & used boat                & 1901                     & 30.00                    & 5.77                     & Steel                    & Netherlands              &  60                      &                         \\\\\n",
       "\t6205 & 118000                   & house                    &                          & used boat                & 1920                     & 31.39                    & 4.62                     & Steel                    & Belgium                  & 205                      & diesel                  \\\\\n",
       "\t6210 & 117500                   & motor yacht              &                          & used boat                & 1919                     & 30.00                    & 6.00                     & Steel                    & Netherlands              &  74                      &                         \\\\\n",
       "\t6341 & 107000                   & trawler                  &                          & used boat                & 1907                     & 15.60                    & 3.40                     & Steel                    & Netherlands              &  85                      &                         \\\\\n",
       "\t... & ... & ... & ... & ... & ... & ... & ... & ... & ... & ... & ...\\\\\n",
       "\t6649 & 89500             & trawler           &                   & used boat         & 1911              & 21.90             & 3.92              & Steel             & Netherlands       &  58               &                  \\\\\n",
       "\t6650 & 89500             & house             &                   & used boat         & 1922              & 20.40             & 4.35              & Steel             & Netherlands       &  59               & diesel           \\\\\n",
       "\t6653 & 89500             & trawler           &                   & used boat         & 1910              & 17.70             & 4.16              & Steel             & Netherlands       &  35               & diesel           \\\\\n",
       "\t6704 & 89000             & classic           & van de Werf       & used boat         & 1901              & 11.00             & 3.00              & Steel             & Germany           & 868               & diesel           \\\\\n",
       "\t6890 & 79500             & trawler           &                   & used boat         & 1919              & 19.70             & 3.85              & Steel             & Netherlands       &  30               & diesel           \\\\\n",
       "\t7019 & 75000             & passenger         &                   & used boat         & 1904              & 12.80             & 2.96              & Steel             & Netherlands       &  81               &                  \\\\\n",
       "\t7413 & 64000             & motor yacht       &                   & used boat         & 1917              & 16.00             & 3.60              & Steel             & Netherlands       & 114               & diesel           \\\\\n",
       "\t1244 & 62000             & trawler           &                   & used boat         & 1908              & 17.50             & 3.75              & Steel             & Netherlands       &  68               &                  \\\\\n",
       "\t1168 & 58000             & trawler           &                   & used boat         & 1906              & 14.80             & 2.80              & Steel             & Netherlands       &  66               & diesel           \\\\\n",
       "\t1023 & 50000             & trawler           &                   & used boat         & 1903              & 29.70             & 6.16              & Steel             & Netherlands       &  84               &                  \\\\\n",
       "\t7944 & 49500             & working           &                   & used boat         & 1901              & 18.22             & 4.22              & Steel             & Netherlands       &  77               & diesel           \\\\\n",
       "\t7947 & 49500             & trawler           &                   & used boat         & 1919              & 18.42             & 3.96              & Steel             & Netherlands       &  98               &                  \\\\\n",
       "\t7956 & 49500             & working           &                   & used boat         & 1907              & 16.13             & 4.10              & Steel             & Netherlands       &  97               & diesel           \\\\\n",
       "\t7957 & 49500             & trawler           &                   & used boat         & 1907              & 15.25             & 3.40              & Steel             & Netherlands       &  81               &                  \\\\\n",
       "\t8157 & 45000             & cabin             & Yachtwerft Berlin & used boat         & 1912              & 15.00             & 3.50              & Steel             & Germany           & 444               & diesel           \\\\\n",
       "\t897 & 44800             & trawler           &                   & used boat         & 1910              & 14.50             & 3.60              & Steel             & Netherlands       & 118               &                  \\\\\n",
       "\t8210 & 44000             & cabin             &                   & used boat         & 1922              & 13.50             & 3.40              & Steel             & France            &  84               & diesel           \\\\\n",
       "\t8268 & 42500             & motor yacht       &                   & used boat         & 1906              & 17.30             & 4.65              & Steel             & Netherlands       & 101               &                  \\\\\n",
       "\t8294 & 42000             & trawler           &                   & used boat         & 1908              & 14.00             & 3.67              & Steel             & Netherlands       & 107               &                  \\\\\n",
       "\t8400 & 39500             & house             &                   & used boat         & 1919              & 22.27             & 4.85              & Steel             & Netherlands       &  95               & diesel           \\\\\n",
       "\t8519 & 37500             & house             &                   & used boat         & 1915              & 15.23             & 3.00              & Steel             & Netherlands       & 242               & diesel           \\\\\n",
       "\t8651 & 34500             & working           &                   & used boat         & 1910              & 12.85             & 3.10              & Steel             & Netherlands       &  73               &                  \\\\\n",
       "\t622 & 32500             & motor yacht       &                   & used boat         & 1909              & 11.50             & 3.60              & Steel             & Netherlands       & 161               &                  \\\\\n",
       "\t8787 & 31000             & motor yacht       &                   & used boat         & 1905              & 17.03             & 3.56              & Steel             & Belgium           & 173               &                  \\\\\n",
       "\t9061 & 25000             & classic           &                   & used boat         & 1897              &  9.40             & 3.20              & Wood              & Netherlands       & 119               & diesel           \\\\\n",
       "\t9511 & 15000             & motor yacht       &                   & used boat         & 1902              & 20.70             & 5.50              & Steel             & Netherlands       & 207               & diesel           \\\\\n",
       "\t9515 & 15000             & trawler           &                   & used boat         & 1900              & 16.00             & 4.05              & Steel             & Netherlands       & 182               &                  \\\\\n",
       "\t173 & 12500             & trawler           & Schlosswerft      & used boat         & 1913              & 14.70             & 3.65              & Steel             & Germany           & 235               & diesel           \\\\\n",
       "\t9861 &  5000             & classic           &                   & used boat         & 1920              &  6.50             & 1.55              & Wood              & France            & 253               & unleaded         \\\\\n",
       "\tNA &    NA             & NA                & NA                & NA                &   NA              &    NA             &   NA              & NA                & NA                &  NA               & NA               \\\\\n",
       "\\end{tabular}\n"
      ],
      "text/markdown": [
       "\n",
       "| <!--/--> | Price | Boat.Type | Manufacturer | Type | Year.Built | Length | Width | Material | Location | Number.of.views.last.7.days | Fuel.Type |\n",
       "|---|---|---|---|---|---|---|---|---|---|---|---|\n",
       "| 3914 | 640000                   | passenger                |                          | used boat                | 1903                     | 69.71                    | 8.41                     | Steel                    | Netherlands              |  98                      | diesel                   |\n",
       "| 4323 | 395000                   | motor yacht              |                          | used boat                | 1910                     | 14.90                    | 2.80                     | Steel                    | Netherlands              |  65                      | diesel                   |\n",
       "| 4803 | 297950                   | passenger                | Hitzler-Werft Regensburg | used boat                | 1910                     | 13.30                    | 3.12                     | Steel                    | Switzerland              | 245                      | diesel                   |\n",
       "| 2650 | 295000                   | house                    |                          | used boat                | 1915                     | 23.00                    | 4.50                     | Steel                    | USA                      | 109                      | diesel                   |\n",
       "| 4729 | 285000                   | house                    |                          | used boat                | 1922                     | 27.84                    | 4.76                     | Steel                    | France                   |  85                      | diesel                   |\n",
       "| 2508 | 249000                   | motor yacht              |                          | used boat                | 1911                     | 25.38                    | 4.22                     | Steel                    | Belgium                  |  71                      | diesel                   |\n",
       "| 5038 | 235000                   | motor yacht              |                          | used boat                | 1910                     | 27.00                    | 5.00                     | Steel                    | France                   |  40                      |                          |\n",
       "| 5064 | 229500                   | trawler                  |                          | used boat                | 1920                     | 27.00                    | 4.50                     | Steel                    | Netherlands              |  74                      |                          |\n",
       "| 5257 | 199500                   | house                    |                          | used boat                | 1905                     | 18.50                    | 4.52                     | Steel                    | Netherlands              | 102                      | diesel                   |\n",
       "| 5258 | 199500                   | house                    |                          | used boat                | 1910                     | 24.47                    | 4.86                     | Steel                    | Netherlands              |  57                      | diesel                   |\n",
       "| 5230 | 194350                   | house                    |                          | used boat                | 1906                     | 30.00                    | 5.05                     | Steel                    | France                   | 123                      |                          |\n",
       "| 5447 | 179500                   | trawler                  | Katwijker                | used boat                | 1922                     | 26.50                    | 5.00                     | Steel                    | Netherlands              |  38                      | diesel                   |\n",
       "| 5504 | 175000                   | motor yacht              | Katwijker                | used boat                | 1911                     | 22.17                    | 3.80                     | Steel                    | Belgium                  |  89                      | diesel                   |\n",
       "| 5539 | 170000                   | working                  |                          | used boat                | 1909                     | 38.00                    | 5.00                     | Steel                    | Netherlands              | 125                      |                          |\n",
       "| 5549 | 169500                   | motor yacht              |                          | used boat                | 1898                     | 24.98                    | 4.80                     | Steel                    | Netherlands              |  25                      | diesel                   |\n",
       "| 2192 | 169000                   | house                    | Katwijker                | used boat                | 1910                     | 23.00                    | 4.80                     | Steel                    | Germany                  | 222                      | diesel                   |\n",
       "| 5552 | 169000                   | house                    |                          | used boat                | 1910                     | 29.50                    | 6.60                     | Steel                    | Netherlands              |  96                      | diesel                   |\n",
       "| 2189 | 165000                   | trawler                  |                          | used boat                | 1905                     | 21.60                    | 4.60                     | Steel                    | Netherlands              |  37                      | diesel                   |\n",
       "| 5603 | 164500                   | trawler                  |                          | used boat                | 1909                     | 28.15                    | 4.32                     | Steel                    | Netherlands              |  34                      | diesel                   |\n",
       "| 2148 | 159000                   | trawler                  |                          | used boat                | 1903                     | 23.80                    | 4.78                     | Steel                    | France                   |  41                      |                          |\n",
       "| 5718 | 150000                   | trawler                  |                          | used boat                | 1907                     | 19.90                    | 4.20                     | Steel                    | Belgium                  |  80                      | diesel                   |\n",
       "| 5790 | 148000                   | house                    |                          | used boat                | 1885                     | 28.00                    | 5.60                     | Steel                    | Netherlands              | 160                      | diesel                   |\n",
       "| 5808 | 147000                   | motor yacht              |                          | used boat                | 1922                     | 27.00                    | 3.93                     | Steel                    | Netherlands              |  75                      |                          |\n",
       "| 5875 | 139500                   | trawler                  |                          | used boat                | 1895                     | 26.53                    | 4.50                     | Steel                    | Netherlands              |  33                      | diesel                   |\n",
       "| 5876 | 139500                   | house                    |                          | used boat                | 1911                     | 27.16                    | 4.60                     | Steel                    | Netherlands              | 116                      |                          |\n",
       "| 6014 | 129500                   | trawler                  |                          | used boat                | 1914                     | 25.60                    | 5.02                     | Steel                    | Netherlands              | 120                      | diesel                   |\n",
       "| 6092 | 124500                   | motor yacht              |                          | used boat                | 1901                     | 30.00                    | 5.77                     | Steel                    | Netherlands              |  60                      |                          |\n",
       "| 6205 | 118000                   | house                    |                          | used boat                | 1920                     | 31.39                    | 4.62                     | Steel                    | Belgium                  | 205                      | diesel                   |\n",
       "| 6210 | 117500                   | motor yacht              |                          | used boat                | 1919                     | 30.00                    | 6.00                     | Steel                    | Netherlands              |  74                      |                          |\n",
       "| 6341 | 107000                   | trawler                  |                          | used boat                | 1907                     | 15.60                    | 3.40                     | Steel                    | Netherlands              |  85                      |                          |\n",
       "| ... | ... | ... | ... | ... | ... | ... | ... | ... | ... | ... | ... |\n",
       "| 6649 | 89500             | trawler           |                   | used boat         | 1911              | 21.90             | 3.92              | Steel             | Netherlands       |  58               |                   |\n",
       "| 6650 | 89500             | house             |                   | used boat         | 1922              | 20.40             | 4.35              | Steel             | Netherlands       |  59               | diesel            |\n",
       "| 6653 | 89500             | trawler           |                   | used boat         | 1910              | 17.70             | 4.16              | Steel             | Netherlands       |  35               | diesel            |\n",
       "| 6704 | 89000             | classic           | van de Werf       | used boat         | 1901              | 11.00             | 3.00              | Steel             | Germany           | 868               | diesel            |\n",
       "| 6890 | 79500             | trawler           |                   | used boat         | 1919              | 19.70             | 3.85              | Steel             | Netherlands       |  30               | diesel            |\n",
       "| 7019 | 75000             | passenger         |                   | used boat         | 1904              | 12.80             | 2.96              | Steel             | Netherlands       |  81               |                   |\n",
       "| 7413 | 64000             | motor yacht       |                   | used boat         | 1917              | 16.00             | 3.60              | Steel             | Netherlands       | 114               | diesel            |\n",
       "| 1244 | 62000             | trawler           |                   | used boat         | 1908              | 17.50             | 3.75              | Steel             | Netherlands       |  68               |                   |\n",
       "| 1168 | 58000             | trawler           |                   | used boat         | 1906              | 14.80             | 2.80              | Steel             | Netherlands       |  66               | diesel            |\n",
       "| 1023 | 50000             | trawler           |                   | used boat         | 1903              | 29.70             | 6.16              | Steel             | Netherlands       |  84               |                   |\n",
       "| 7944 | 49500             | working           |                   | used boat         | 1901              | 18.22             | 4.22              | Steel             | Netherlands       |  77               | diesel            |\n",
       "| 7947 | 49500             | trawler           |                   | used boat         | 1919              | 18.42             | 3.96              | Steel             | Netherlands       |  98               |                   |\n",
       "| 7956 | 49500             | working           |                   | used boat         | 1907              | 16.13             | 4.10              | Steel             | Netherlands       |  97               | diesel            |\n",
       "| 7957 | 49500             | trawler           |                   | used boat         | 1907              | 15.25             | 3.40              | Steel             | Netherlands       |  81               |                   |\n",
       "| 8157 | 45000             | cabin             | Yachtwerft Berlin | used boat         | 1912              | 15.00             | 3.50              | Steel             | Germany           | 444               | diesel            |\n",
       "| 897 | 44800             | trawler           |                   | used boat         | 1910              | 14.50             | 3.60              | Steel             | Netherlands       | 118               |                   |\n",
       "| 8210 | 44000             | cabin             |                   | used boat         | 1922              | 13.50             | 3.40              | Steel             | France            |  84               | diesel            |\n",
       "| 8268 | 42500             | motor yacht       |                   | used boat         | 1906              | 17.30             | 4.65              | Steel             | Netherlands       | 101               |                   |\n",
       "| 8294 | 42000             | trawler           |                   | used boat         | 1908              | 14.00             | 3.67              | Steel             | Netherlands       | 107               |                   |\n",
       "| 8400 | 39500             | house             |                   | used boat         | 1919              | 22.27             | 4.85              | Steel             | Netherlands       |  95               | diesel            |\n",
       "| 8519 | 37500             | house             |                   | used boat         | 1915              | 15.23             | 3.00              | Steel             | Netherlands       | 242               | diesel            |\n",
       "| 8651 | 34500             | working           |                   | used boat         | 1910              | 12.85             | 3.10              | Steel             | Netherlands       |  73               |                   |\n",
       "| 622 | 32500             | motor yacht       |                   | used boat         | 1909              | 11.50             | 3.60              | Steel             | Netherlands       | 161               |                   |\n",
       "| 8787 | 31000             | motor yacht       |                   | used boat         | 1905              | 17.03             | 3.56              | Steel             | Belgium           | 173               |                   |\n",
       "| 9061 | 25000             | classic           |                   | used boat         | 1897              |  9.40             | 3.20              | Wood              | Netherlands       | 119               | diesel            |\n",
       "| 9511 | 15000             | motor yacht       |                   | used boat         | 1902              | 20.70             | 5.50              | Steel             | Netherlands       | 207               | diesel            |\n",
       "| 9515 | 15000             | trawler           |                   | used boat         | 1900              | 16.00             | 4.05              | Steel             | Netherlands       | 182               |                   |\n",
       "| 173 | 12500             | trawler           | Schlosswerft      | used boat         | 1913              | 14.70             | 3.65              | Steel             | Germany           | 235               | diesel            |\n",
       "| 9861 |  5000             | classic           |                   | used boat         | 1920              |  6.50             | 1.55              | Wood              | France            | 253               | unleaded          |\n",
       "| NA |    NA             | NA                | NA                | NA                |   NA              |    NA             |   NA              | NA                | NA                |  NA               | NA                |\n",
       "\n"
      ],
      "text/plain": [
       "     Price  Boat.Type   Manufacturer             Type      Year.Built Length\n",
       "3914 640000 passenger                            used boat 1903       69.71 \n",
       "4323 395000 motor yacht                          used boat 1910       14.90 \n",
       "4803 297950 passenger   Hitzler-Werft Regensburg used boat 1910       13.30 \n",
       "2650 295000 house                                used boat 1915       23.00 \n",
       "4729 285000 house                                used boat 1922       27.84 \n",
       "2508 249000 motor yacht                          used boat 1911       25.38 \n",
       "5038 235000 motor yacht                          used boat 1910       27.00 \n",
       "5064 229500 trawler                              used boat 1920       27.00 \n",
       "5257 199500 house                                used boat 1905       18.50 \n",
       "5258 199500 house                                used boat 1910       24.47 \n",
       "5230 194350 house                                used boat 1906       30.00 \n",
       "5447 179500 trawler     Katwijker                used boat 1922       26.50 \n",
       "5504 175000 motor yacht Katwijker                used boat 1911       22.17 \n",
       "5539 170000 working                              used boat 1909       38.00 \n",
       "5549 169500 motor yacht                          used boat 1898       24.98 \n",
       "2192 169000 house       Katwijker                used boat 1910       23.00 \n",
       "5552 169000 house                                used boat 1910       29.50 \n",
       "2189 165000 trawler                              used boat 1905       21.60 \n",
       "5603 164500 trawler                              used boat 1909       28.15 \n",
       "2148 159000 trawler                              used boat 1903       23.80 \n",
       "5718 150000 trawler                              used boat 1907       19.90 \n",
       "5790 148000 house                                used boat 1885       28.00 \n",
       "5808 147000 motor yacht                          used boat 1922       27.00 \n",
       "5875 139500 trawler                              used boat 1895       26.53 \n",
       "5876 139500 house                                used boat 1911       27.16 \n",
       "6014 129500 trawler                              used boat 1914       25.60 \n",
       "6092 124500 motor yacht                          used boat 1901       30.00 \n",
       "6205 118000 house                                used boat 1920       31.39 \n",
       "6210 117500 motor yacht                          used boat 1919       30.00 \n",
       "6341 107000 trawler                              used boat 1907       15.60 \n",
       "...  ...    ...         ...                      ...       ...        ...   \n",
       "6649 89500  trawler                              used boat 1911       21.90 \n",
       "6650 89500  house                                used boat 1922       20.40 \n",
       "6653 89500  trawler                              used boat 1910       17.70 \n",
       "6704 89000  classic     van de Werf              used boat 1901       11.00 \n",
       "6890 79500  trawler                              used boat 1919       19.70 \n",
       "7019 75000  passenger                            used boat 1904       12.80 \n",
       "7413 64000  motor yacht                          used boat 1917       16.00 \n",
       "1244 62000  trawler                              used boat 1908       17.50 \n",
       "1168 58000  trawler                              used boat 1906       14.80 \n",
       "1023 50000  trawler                              used boat 1903       29.70 \n",
       "7944 49500  working                              used boat 1901       18.22 \n",
       "7947 49500  trawler                              used boat 1919       18.42 \n",
       "7956 49500  working                              used boat 1907       16.13 \n",
       "7957 49500  trawler                              used boat 1907       15.25 \n",
       "8157 45000  cabin       Yachtwerft Berlin        used boat 1912       15.00 \n",
       "897  44800  trawler                              used boat 1910       14.50 \n",
       "8210 44000  cabin                                used boat 1922       13.50 \n",
       "8268 42500  motor yacht                          used boat 1906       17.30 \n",
       "8294 42000  trawler                              used boat 1908       14.00 \n",
       "8400 39500  house                                used boat 1919       22.27 \n",
       "8519 37500  house                                used boat 1915       15.23 \n",
       "8651 34500  working                              used boat 1910       12.85 \n",
       "622  32500  motor yacht                          used boat 1909       11.50 \n",
       "8787 31000  motor yacht                          used boat 1905       17.03 \n",
       "9061 25000  classic                              used boat 1897        9.40 \n",
       "9511 15000  motor yacht                          used boat 1902       20.70 \n",
       "9515 15000  trawler                              used boat 1900       16.00 \n",
       "173  12500  trawler     Schlosswerft             used boat 1913       14.70 \n",
       "9861  5000  classic                              used boat 1920        6.50 \n",
       "NA      NA  NA          NA                       NA          NA          NA \n",
       "     Width Material Location    Number.of.views.last.7.days Fuel.Type\n",
       "3914 8.41  Steel    Netherlands  98                         diesel   \n",
       "4323 2.80  Steel    Netherlands  65                         diesel   \n",
       "4803 3.12  Steel    Switzerland 245                         diesel   \n",
       "2650 4.50  Steel    USA         109                         diesel   \n",
       "4729 4.76  Steel    France       85                         diesel   \n",
       "2508 4.22  Steel    Belgium      71                         diesel   \n",
       "5038 5.00  Steel    France       40                                  \n",
       "5064 4.50  Steel    Netherlands  74                                  \n",
       "5257 4.52  Steel    Netherlands 102                         diesel   \n",
       "5258 4.86  Steel    Netherlands  57                         diesel   \n",
       "5230 5.05  Steel    France      123                                  \n",
       "5447 5.00  Steel    Netherlands  38                         diesel   \n",
       "5504 3.80  Steel    Belgium      89                         diesel   \n",
       "5539 5.00  Steel    Netherlands 125                                  \n",
       "5549 4.80  Steel    Netherlands  25                         diesel   \n",
       "2192 4.80  Steel    Germany     222                         diesel   \n",
       "5552 6.60  Steel    Netherlands  96                         diesel   \n",
       "2189 4.60  Steel    Netherlands  37                         diesel   \n",
       "5603 4.32  Steel    Netherlands  34                         diesel   \n",
       "2148 4.78  Steel    France       41                                  \n",
       "5718 4.20  Steel    Belgium      80                         diesel   \n",
       "5790 5.60  Steel    Netherlands 160                         diesel   \n",
       "5808 3.93  Steel    Netherlands  75                                  \n",
       "5875 4.50  Steel    Netherlands  33                         diesel   \n",
       "5876 4.60  Steel    Netherlands 116                                  \n",
       "6014 5.02  Steel    Netherlands 120                         diesel   \n",
       "6092 5.77  Steel    Netherlands  60                                  \n",
       "6205 4.62  Steel    Belgium     205                         diesel   \n",
       "6210 6.00  Steel    Netherlands  74                                  \n",
       "6341 3.40  Steel    Netherlands  85                                  \n",
       "...  ...   ...      ...         ...                         ...      \n",
       "6649 3.92  Steel    Netherlands  58                                  \n",
       "6650 4.35  Steel    Netherlands  59                         diesel   \n",
       "6653 4.16  Steel    Netherlands  35                         diesel   \n",
       "6704 3.00  Steel    Germany     868                         diesel   \n",
       "6890 3.85  Steel    Netherlands  30                         diesel   \n",
       "7019 2.96  Steel    Netherlands  81                                  \n",
       "7413 3.60  Steel    Netherlands 114                         diesel   \n",
       "1244 3.75  Steel    Netherlands  68                                  \n",
       "1168 2.80  Steel    Netherlands  66                         diesel   \n",
       "1023 6.16  Steel    Netherlands  84                                  \n",
       "7944 4.22  Steel    Netherlands  77                         diesel   \n",
       "7947 3.96  Steel    Netherlands  98                                  \n",
       "7956 4.10  Steel    Netherlands  97                         diesel   \n",
       "7957 3.40  Steel    Netherlands  81                                  \n",
       "8157 3.50  Steel    Germany     444                         diesel   \n",
       "897  3.60  Steel    Netherlands 118                                  \n",
       "8210 3.40  Steel    France       84                         diesel   \n",
       "8268 4.65  Steel    Netherlands 101                                  \n",
       "8294 3.67  Steel    Netherlands 107                                  \n",
       "8400 4.85  Steel    Netherlands  95                         diesel   \n",
       "8519 3.00  Steel    Netherlands 242                         diesel   \n",
       "8651 3.10  Steel    Netherlands  73                                  \n",
       "622  3.60  Steel    Netherlands 161                                  \n",
       "8787 3.56  Steel    Belgium     173                                  \n",
       "9061 3.20  Wood     Netherlands 119                         diesel   \n",
       "9511 5.50  Steel    Netherlands 207                         diesel   \n",
       "9515 4.05  Steel    Netherlands 182                                  \n",
       "173  3.65  Steel    Germany     235                         diesel   \n",
       "9861 1.55  Wood     France      253                         unleaded \n",
       "NA     NA  NA       NA           NA                         NA       "
      ]
     },
     "metadata": {},
     "output_type": "display_data"
    }
   ],
   "source": [
    "old.boats[order(-old.boats$Price),]"
   ]
  },
  {
   "cell_type": "code",
   "execution_count": 84,
   "metadata": {
    "scrolled": false
   },
   "outputs": [
    {
     "data": {
      "image/png": "[encoded data removed]",
      "text/plain": [
       "Plot with title \"People Interest In Old Boats\""
      ]
     },
     "metadata": {},
     "output_type": "display_data"
    }
   ],
   "source": [
    "plot(old.boats$Year.Built, old.boats$Number.of.views.last.7.days,\n",
    "main=\"People Interest In Old Boats\",\n",
    "ylab=\"Views\",\n",
    "type=\"p\",\n",
    "col=\"blue\")"
   ]
  },
  {
   "cell_type": "code",
   "execution_count": 107,
   "metadata": {},
   "outputs": [
    {
     "data": {
      "image/png": "[encoded data removed]",
      "text/plain": [
       "Plot with title \"Histogram of price\""
      ]
     },
     "metadata": {},
     "output_type": "display_data"
    }
   ],
   "source": [
    "price <-old.boats$Price\n",
    "hist(price, breaks=100)"
   ]
  },
  {
   "cell_type": "code",
   "execution_count": 118,
   "metadata": {},
   "outputs": [
    {
     "name": "stderr",
     "output_type": "stream",
     "text": [
      "Warning message in min(x):\n",
      "\"brak argumentów w min; zwracanie wartości Inf\"Warning message in max(x):\n",
      "\"brak argumentów w max; zwracanie wartości -Inf\""
     ]
    },
    {
     "ename": "ERROR",
     "evalue": "Error in hist.default(price, breaks = 100): character(0)\n",
     "output_type": "error",
     "traceback": [
      "Error in hist.default(price, breaks = 100): character(0)\nTraceback:\n",
      "1. hist(price, breaks = 100)",
      "2. hist.default(price, breaks = 100)",
      "3. stop(gettextf(\"hist.default: pretty() error, breaks=%s\", format(breaks)), \n .     domain = NA)"
     ]
    }
   ],
   "source": [
    "boats.df <- boats.df[boats.df$Price!=0,]\n",
    "price <-boats.df$Price\n",
    "hist(price, breaks=100)"
   ]
  },
  {
   "cell_type": "code",
   "execution_count": 117,
   "metadata": {},
   "outputs": [
    {
     "name": "stderr",
     "output_type": "stream",
     "text": [
      "Warning message in min(x):\n",
      "\"brak argumentów w min; zwracanie wartości Inf\"Warning message in max(x):\n",
      "\"brak argumentów w max; zwracanie wartości -Inf\""
     ]
    },
    {
     "ename": "ERROR",
     "evalue": "Error in plot.window(...): niepoprawna wartość 'xlim'\n",
     "output_type": "error",
     "traceback": [
      "Error in plot.window(...): niepoprawna wartość 'xlim'\nTraceback:\n",
      "1. plot(boats.df$Year.Built, boats.df$Number.of.views.last.7.days, \n .     main = \"People Interest In Old Boats\", ylab = \"Views\", type = \"p\", \n .     col = \"blue\", xlim = 2022)",
      "2. plot.default(boats.df$Year.Built, boats.df$Number.of.views.last.7.days, \n .     main = \"People Interest In Old Boats\", ylab = \"Views\", type = \"p\", \n .     col = \"blue\", xlim = 2022)",
      "3. localWindow(xlim, ylim, log, asp, ...)",
      "4. plot.window(...)"
     ]
    },
    {
     "data": {
      "image/png": "[encoded data removed]",
      "text/plain": [
       "plot without title"
      ]
     },
     "metadata": {},
     "output_type": "display_data"
    }
   ],
   "source": [
    "plot(boats.df$Year.Built, boats.df$Number.of.views.last.7.days,\n",
    "main=\"People Interest In Old Boats\",\n",
    "ylab=\"Views\",\n",
    "type=\"p\",\n",
    "col=\"blue\",\n",
    "    xlim=2022)"
   ]
  },
  {
   "cell_type": "code",
   "execution_count": null,
   "metadata": {},
   "outputs": [],
   "source": []
  }
 ],
 "metadata": {
  "kernelspec": {
   "display_name": "R",
   "language": "R",
   "name": "ir"
  },
  "language_info": {
   "codemirror_mode": "r",
   "file_extension": ".r",
   "mimetype": "text/x-r-source",
   "name": "R",
   "pygments_lexer": "r",
   "version": "3.6.1"
  }
 },
 "nbformat": 4,
 "nbformat_minor": 1
}
